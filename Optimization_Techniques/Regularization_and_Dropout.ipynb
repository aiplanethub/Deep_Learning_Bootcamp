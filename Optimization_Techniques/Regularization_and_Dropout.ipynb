{
  "nbformat": 4,
  "nbformat_minor": 0,
  "metadata": {
    "kernelspec": {
      "display_name": "Python 3",
      "language": "python",
      "name": "python3"
    },
    "language_info": {
      "codemirror_mode": {
        "name": "ipython",
        "version": 3
      },
      "file_extension": ".py",
      "mimetype": "text/x-python",
      "name": "python",
      "nbconvert_exporter": "python",
      "pygments_lexer": "ipython3",
      "version": "3.6.8"
    },
    "colab": {
      "name": "Regularization and Dropout.ipynb",
      "provenance": [],
      "include_colab_link": true
    }
  },
  "cells": [
    {
      "cell_type": "markdown",
      "metadata": {
        "id": "view-in-github",
        "colab_type": "text"
      },
      "source": [
        "<a href=\"https://colab.research.google.com/github/dphi-official/Deep_Learning_Bootcamp/blob/master/Optimization_Techniques/Regularization_and_Dropout.ipynb\" target=\"_parent\"><img src=\"https://colab.research.google.com/assets/colab-badge.svg\" alt=\"Open In Colab\"/></a>"
      ]
    },
    {
      "cell_type": "markdown",
      "metadata": {
        "id": "AAsen8s8_qQ0",
        "colab_type": "text"
      },
      "source": [
        "**Author:** [Hasan Ali](https://www.linkedin.com/in/learnmlwithhasan/)"
      ]
    },
    {
      "cell_type": "markdown",
      "metadata": {
        "id": "thhorARjsDPx",
        "colab_type": "text"
      },
      "source": [
        "### Regularization\n",
        "\n",
        "Regularization is a technique which makes slight modifications to the learning algorithm such that the model generalizes better. This in turn improves the model’s performance on the unseen data as well. \n",
        "\n",
        "Remember when we were adding more layers to the model (making it more complex) ? Adding more than required layers might also lead to overfitting. \n",
        "\n",
        "*By looking at the graph below can you guess, what should be an ideal model complexity.*"
      ]
    },
    {
      "cell_type": "markdown",
      "metadata": {
        "id": "IKSiPd8lsDPy",
        "colab_type": "text"
      },
      "source": [
        "![perfect_point.png](https://drive.google.com/uc?export=view&id=1isDRyvRtMFPhC8RQHL9Puh-OoOm0z9FP)"
      ]
    },
    {
      "cell_type": "markdown",
      "metadata": {
        "id": "pP3DVnQKsDP7",
        "colab_type": "text"
      },
      "source": [
        "Somethings in Deep Learning can't be learnt in the first go. Regularisation is one of them. It takes some time. So, dont be hard on yourself and let this absorb.\n",
        "\n",
        "Here is how to use it in your neural networks.\n",
        "```python\n",
        "model.add(Dense(256,activation='relu', kernel_regularizer = 'l2'))\n",
        "```"
      ]
    },
    {
      "cell_type": "markdown",
      "metadata": {
        "id": "Trp7cAh_sDP8",
        "colab_type": "text"
      },
      "source": [
        "### Dropouts\n",
        "\n",
        "Dropout is a regularization method that approximates training a large number of neural networks with different architectures in parallel. As mentioned, it is preferrably used when training a large neural network. "
      ]
    },
    {
      "cell_type": "code",
      "metadata": {
        "id": "GVgWUCb4sDP9",
        "colab_type": "code",
        "colab": {},
        "outputId": "a6c42f40-1f74-47d2-ebc9-190c46af9f04"
      },
      "source": [
        "from IPython.display import Image\n",
        "Image(url=\"https://miro.medium.com/max/1200/1*iWQzxhVlvadk6VAJjsgXgg.png\", width=800, height=500)"
      ],
      "execution_count": null,
      "outputs": [
        {
          "output_type": "execute_result",
          "data": {
            "text/html": [
              "<img src=\"https://miro.medium.com/max/1200/1*iWQzxhVlvadk6VAJjsgXgg.png\" width=\"800\" height=\"500\"/>"
            ],
            "text/plain": [
              "<IPython.core.display.Image object>"
            ]
          },
          "metadata": {
            "tags": []
          },
          "execution_count": 2
        }
      ]
    },
    {
      "cell_type": "markdown",
      "metadata": {
        "id": "GbaNQNWysDQB",
        "colab_type": "text"
      },
      "source": [
        "*By dropping a unit out, we mean temporarily removing it from the network, along with all its incoming and outgoing connections*\n",
        "\n",
        "Dropout has the effect of making the training process noisy, forcing nodes within a layer to probabilistically take on more or less responsibility for the inputs.\n",
        "This conceptualization suggests that perhaps dropout breaks-up situations where network layers co-adapt to correct mistakes from prior layers, in turn making the model more robust."
      ]
    },
    {
      "cell_type": "markdown",
      "metadata": {
        "id": "21l5k4oosDQC",
        "colab_type": "text"
      },
      "source": [
        "It can be used with most types of layers, such as dense fully connected layers, convolutional layers, and recurrent layers such as the long short-term memory network layer. Dropout may be implemented on any or all hidden layers in the network as well as the visible or input layer. \n",
        "\n",
        "`NOTE` : It is not used on the output layer."
      ]
    },
    {
      "cell_type": "code",
      "metadata": {
        "id": "68kgsPj1sDQK",
        "colab_type": "code",
        "colab": {},
        "outputId": "31512678-277c-4e9e-c9d6-ccdf06f171e4"
      },
      "source": [
        "from tensorflow.keras.datasets import mnist\n",
        "# import matplotlib for visualization\n",
        "import numpy as np\n",
        "import matplotlib\n",
        "import matplotlib.pyplot as plt\n",
        "%matplotlib inline\n",
        "\n",
        "(X_train, y_train), (X_test, y_test) = mnist.load_data()"
      ],
      "execution_count": null,
      "outputs": [
        {
          "output_type": "stream",
          "text": [
            "C:\\Users\\pele1\\Anaconda3\\envs\\deeplearning\\lib\\site-packages\\h5py\\__init__.py:36: FutureWarning: Conversion of the second argument of issubdtype from `float` to `np.floating` is deprecated. In future, it will be treated as `np.float64 == np.dtype(float).type`.\n",
            "  from ._conv import register_converters as _register_converters\n"
          ],
          "name": "stderr"
        }
      ]
    },
    {
      "cell_type": "code",
      "metadata": {
        "id": "ctJo_QQrsDQO",
        "colab_type": "code",
        "colab": {},
        "outputId": "562172c0-23f5-465f-93fd-d750676d6594"
      },
      "source": [
        "images = X_train[:3]\n",
        "labels = y_train[:3]\n",
        "\n",
        "f,ax = plt.subplots(nrows=1,ncols=3, figsize=(20,4))\n",
        "\n",
        "for index,(img, ax) in enumerate(zip(images, ax)):\n",
        "    \n",
        "    ax.imshow(img,cmap='gray')\n",
        "    ax.axis('off')\n",
        "    ax.text(0.6,-2.0, f\"Digit in the Image {labels[index]}\", size=15, ha=\"center\")\n",
        "    \n",
        "plt.show()"
      ],
      "execution_count": null,
      "outputs": [
        {
          "output_type": "display_data",
          "data": {
            "image/png": "[encoded data removed]",
            "text/plain": [
              "<Figure size 1440x288 with 3 Axes>"
            ]
          },
          "metadata": {
            "tags": [],
            "needs_background": "light"
          }
        }
      ]
    },
    {
      "cell_type": "code",
      "metadata": {
        "id": "yKSBryiPsDQS",
        "colab_type": "code",
        "colab": {}
      },
      "source": [
        "from tensorflow.keras.models import Sequential\n",
        "from tensorflow.keras.layers import Dense, Dropout\n",
        "from tensorflow.keras.optimizers import SGD\n",
        "from tensorflow.keras.callbacks import TensorBoard\n",
        "from tensorflow.keras.utils import to_categorical\n",
        "from tensorflow.keras.callbacks import EarlyStopping\n",
        "from tensorflow.keras import regularizers\n",
        "from datetime import datetime"
      ],
      "execution_count": null,
      "outputs": []
    },
    {
      "cell_type": "code",
      "metadata": {
        "id": "C9qUbXZIsDQZ",
        "colab_type": "code",
        "colab": {}
      },
      "source": [
        "###why did we reshaped ?? Question for you !\n",
        "\n",
        "X_train = X_train.reshape(60000, 784)\n",
        "X_test = X_test.reshape(10000, 784)"
      ],
      "execution_count": null,
      "outputs": []
    },
    {
      "cell_type": "code",
      "metadata": {
        "id": "bjlAMNCXsDQd",
        "colab_type": "code",
        "colab": {}
      },
      "source": [
        "###what is to_categorical doing here ? Question for you !\n",
        "\n",
        "y_train = to_categorical(y_train, 10)\n",
        "y_test = to_categorical(y_test, 10)"
      ],
      "execution_count": null,
      "outputs": []
    },
    {
      "cell_type": "code",
      "metadata": {
        "id": "s4afU-2YsDQg",
        "colab_type": "code",
        "colab": {},
        "outputId": "62d2978b-e183-41ae-cea5-911d3dc331fc"
      },
      "source": [
        "model = Sequential()\n",
        "model.add(Dense(10, activation='relu', input_shape= (784,) ))\n",
        "model.add(Dropout(0.2)) ###using dropout\n",
        "model.add(Dense(256,activation='relu', kernel_regularizer = 'l2'))###using regularizer\n",
        "model.add(Dropout(0.2))###using dropout\n",
        "model.add(Dense(256,activation='relu', kernel_regularizer = 'l2')) ###using regularizer\n",
        "model.add(Dropout(0.2))###using dropout\n",
        "model.add(Dense(10, activation='softmax'))\n",
        "model.compile(loss='categorical_crossentropy', optimizer=SGD(lr=0.001), metrics=['accuracy'])"
      ],
      "execution_count": null,
      "outputs": [
        {
          "output_type": "stream",
          "text": [
            "WARNING:tensorflow:From C:\\Users\\pele1\\Anaconda3\\envs\\deeplearning\\lib\\site-packages\\tensorflow\\python\\keras\\layers\\core.py:143: calling dropout (from tensorflow.python.ops.nn_ops) with keep_prob is deprecated and will be removed in a future version.\n",
            "Instructions for updating:\n",
            "Please use `rate` instead of `keep_prob`. Rate should be set to `rate = 1 - keep_prob`.\n"
          ],
          "name": "stdout"
        }
      ]
    },
    {
      "cell_type": "code",
      "metadata": {
        "id": "6pWxY6lisDQk",
        "colab_type": "code",
        "colab": {}
      },
      "source": [
        "logdir = \"logs/\" + datetime.now().strftime(\"%Y%m%d-%H%M%S\")\n",
        "tensorboard_callback = TensorBoard(log_dir=logdir)\n",
        "\n",
        "es = EarlyStopping(monitor='val_loss', mode='min', verbose=1, patience=5)"
      ],
      "execution_count": null,
      "outputs": []
    },
    {
      "cell_type": "code",
      "metadata": {
        "id": "HrW9m1nJsDQn",
        "colab_type": "code",
        "colab": {}
      },
      "source": [
        "# model.compile(loss='categorical_crossentropy', optimizer='adam', metrics=['accuracy'])"
      ],
      "execution_count": null,
      "outputs": []
    },
    {
      "cell_type": "code",
      "metadata": {
        "id": "M8rhtyNmsDQq",
        "colab_type": "code",
        "colab": {},
        "outputId": "1f8b45ad-c108-42e1-a842-71709dcc1ca7"
      },
      "source": [
        "training_history = model.fit(\n",
        "    X_train, # input\n",
        "    y_train, # output\n",
        "    batch_size=32,\n",
        "    verbose=1, # Suppress chatty output; use Tensorboard instead\n",
        "    epochs=10,\n",
        "    validation_data=(X_test, y_test),\n",
        "    callbacks=[tensorboard_callback, es],\n",
        ")"
      ],
      "execution_count": null,
      "outputs": [
        {
          "output_type": "stream",
          "text": [
            "Train on 60000 samples, validate on 10000 samples\n",
            "WARNING:tensorflow:From C:\\Users\\pele1\\Anaconda3\\envs\\deeplearning\\lib\\site-packages\\tensorflow\\python\\ops\\math_ops.py:3066: to_int32 (from tensorflow.python.ops.math_ops) is deprecated and will be removed in a future version.\n",
            "Instructions for updating:\n",
            "Use tf.cast instead.\n",
            "Epoch 1/10\n",
            "60000/60000 [==============================] - 10s 166us/sample - loss: 4.7879 - acc: 0.2098 - val_loss: 4.4647 - val_acc: 0.2782\n",
            "Epoch 2/10\n",
            "60000/60000 [==============================] - 9s 153us/sample - loss: 4.4392 - acc: 0.2465 - val_loss: 4.2363 - val_acc: 0.2825\n",
            "Epoch 3/10\n",
            "60000/60000 [==============================] - 9s 153us/sample - loss: 4.2254 - acc: 0.2542 - val_loss: 4.0222 - val_acc: 0.2955\n",
            "Epoch 4/10\n",
            "60000/60000 [==============================] - 9s 154us/sample - loss: 4.0406 - acc: 0.2549 - val_loss: 3.8429 - val_acc: 0.3008\n",
            "Epoch 5/10\n",
            "60000/60000 [==============================] - 9s 154us/sample - loss: 3.8716 - acc: 0.2603 - val_loss: 3.6720 - val_acc: 0.3056\n",
            "Epoch 6/10\n",
            "60000/60000 [==============================] - 9s 155us/sample - loss: 3.7136 - acc: 0.2666 - val_loss: 3.5151 - val_acc: 0.3159\n",
            "Epoch 7/10\n",
            "60000/60000 [==============================] - 9s 155us/sample - loss: 3.5542 - acc: 0.2764 - val_loss: 3.3222 - val_acc: 0.3452\n",
            "Epoch 8/10\n",
            "60000/60000 [==============================] - 9s 155us/sample - loss: 3.3849 - acc: 0.2868 - val_loss: 3.1724 - val_acc: 0.3601\n",
            "Epoch 9/10\n",
            "60000/60000 [==============================] - 9s 158us/sample - loss: 3.2336 - acc: 0.2999 - val_loss: 2.9951 - val_acc: 0.3883\n",
            "Epoch 10/10\n",
            "60000/60000 [==============================] - 9s 158us/sample - loss: 3.0061 - acc: 0.3553 - val_loss: 2.6455 - val_acc: 0.5065\n"
          ],
          "name": "stdout"
        }
      ]
    },
    {
      "cell_type": "markdown",
      "metadata": {
        "id": "i8IUEJ1ysDQu",
        "colab_type": "text"
      },
      "source": [
        "This is just for demo purpose, dropouts is majorly used in deep/wide neural networks. This is a very basic one. As you can see, the accuracy is increasing very slowly and steadily and the model is yet to converge it will take around 100 more epochs. "
      ]
    },
    {
      "cell_type": "markdown",
      "metadata": {
        "id": "jKxc6qS9sDQv",
        "colab_type": "text"
      },
      "source": [
        "#### Why not just use early stopping rather than regularisation ?\n",
        "\n",
        "The main downside of early stopping is that this couples two tasks:\n",
        "\n",
        "1. Algorithm to optimize the cost function j (eg gradient descent, adam etc)\n",
        "2. Prevent overfitting (ie get more data, regularization)\n",
        "\n",
        "because by stopping gradient decent early, we are sort of breaking whatever we are doing to optimize cost function J and simultaneously trying to not over fit. Rather than using early stopping, one alternative is just use L2 regularization then we can just train the neural network as long as possible(the downside here is we have to try a lot of values of the regularization parameter lambda and hence it becomes computationally expensive)"
      ]
    },
    {
      "cell_type": "markdown",
      "metadata": {
        "id": "AVI257GmsDQw",
        "colab_type": "text"
      },
      "source": [
        "**Points to conclude with**\n",
        "\n",
        "- Large weights in a neural network are a sign of a more complex network that has overfit the training data.\n",
        "- Probabilistically dropping out nodes in the network is a simple and effective regularization method.\n",
        "- A large network with more training and the use of a weight constraint are suggested when using dropout."
      ]
    }
  ]
}
