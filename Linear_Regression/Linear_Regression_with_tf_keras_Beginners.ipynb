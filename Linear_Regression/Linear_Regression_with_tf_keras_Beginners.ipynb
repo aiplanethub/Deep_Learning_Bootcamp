{
 "cells": [
  {
   "cell_type": "markdown",
   "metadata": {
    "colab_type": "text",
    "id": "tmHsf5DWsxr6"
   },
   "source": [
    "# Agenda\n",
    "1. About the Dataset\n",
    "2. Objective\n",
    "3. Loading Libraries\n",
    "4. Loading Data\n",
    "5. View Data\n",
    "6. Separate Input Features and Output Features/Variables\n",
    "7. Split The Data into Train and Test Set\n",
    "8. Train the model (The five step model life cycle)\n",
    "  1. Define the model.\n",
    "  2. Compile the model.\n",
    "  3. Fit the model.\n",
    "  4. Evaluate the model\n",
    "    * Hyperparameter Tunning\n",
    "  5. Prediction"
   ]
  },
  {
   "cell_type": "markdown",
   "metadata": {
    "colab_type": "text",
    "id": "NmP7x85xcxkS"
   },
   "source": [
    "## About the Dataset\n",
    "We will be working on a data set that comes from the real estate industry in Boston (US). This database contains 14 attributes. The output variable refers to the median value of owner-occupied homes in 1000 USD's.\n",
    "\n",
    "* CRIM: per capita crime rate by town\n",
    "* ZN: proportion of residential land zoned for lots over 25,000 sq.ft.\n",
    "* INDUS: proportion of non-retail business acres per town\n",
    "* CHAS: Charles River dummy variable (= 1 if tract bounds river; 0 otherwise)\n",
    "* NOX: nitric oxides concentration (parts per 10 million)\n",
    "* RM: average number of rooms per dwelling\n",
    "* AGE: proportion of owner-occupied units built prior to 1940\n",
    "* DIS: weighted distances to five Boston employment centres\n",
    "* RAD: index of accessibility to radial highways\n",
    "* TAX: full-value property-tax rate per 10,000 USD\n",
    "* PTRATIO: pupil-teacher ratio by town\n",
    "* B: 1000(Bk - 0.63)^2 where Bk is the proportion of blacks by town\n",
    "* LSTAT: lower status of the population (%)\n",
    "* MEDV: Median value of owner-occupied homes in 1000 USD's (Output/Target)\n"
   ]
  },
  {
   "cell_type": "markdown",
   "metadata": {
    "colab_type": "text",
    "id": "w_c7y3fqWuDX"
   },
   "source": [
    "## Objective\n",
    "The objective is to use linear regression to find the median value of owner-occupied homes in 1000 USD's.\n",
    "\n",
    "We will build a Machine learning model (i.e. Linear Regression) using `tensorflow.keras` (in short `tf.keras`) API."
   ]
  },
  {
   "cell_type": "markdown",
   "metadata": {
    "colab_type": "text",
    "id": "hvnf8jDeTTvw"
   },
   "source": [
    "You already have all the information about Tensorflow and Keras from earlier modules."
   ]
  },
  {
   "cell_type": "markdown",
   "metadata": {
    "colab_type": "text",
    "id": "PQeegjzCbXdf"
   },
   "source": [
    "## Loading Libraries\n",
    "All Python capabilities are not loaded to our working environment by default (even if they are already installed in your system). So, we import each and every library that we want to use.\n",
    "\n",
    "In data science, numpy and pandas are most commonly used libraries. Numpy is required for calculations like means, medians, square roots, etc. Pandas is used for data processing and working with DataFrames. Matplotlib is used for data visualization. We chose alias names for our libraries for the sake of our convenience (numpy --> np and pandas --> pd, matplotlib.pyplot as plt).\n",
    "\n",
    "**pyplot:** pyplot is matplotlib's plotting framework. It is the most used module of matplotlib."
   ]
  },
  {
   "cell_type": "code",
   "execution_count": 1,
   "metadata": {
    "colab": {},
    "colab_type": "code",
    "id": "UEWLuXd7BMrU"
   },
   "outputs": [],
   "source": [
    "# importing packages\n",
    "import numpy as np # to perform calculations \n",
    "import pandas as pd # to read data\n",
    "import matplotlib.pyplot as plt # to visualise"
   ]
  },
  {
   "cell_type": "markdown",
   "metadata": {
    "colab_type": "text",
    "id": "fY_eewx0dhHt"
   },
   "source": [
    "## Loading Data\n",
    "Pandas module is used for reading files. We have our data in '.csv' format. We will use 'read_csv()' function for loading the data."
   ]
  },
  {
   "cell_type": "code",
   "execution_count": 2,
   "metadata": {
    "colab": {},
    "colab_type": "code",
    "id": "7zlSaTd2W9rt"
   },
   "outputs": [],
   "source": [
    "# In read_csv() function, we have passed the location to where the file is located at dphi official github page\n",
    "boston_data = pd.read_csv(\"https://raw.githubusercontent.com/dphi-official/Datasets/master/Boston_Housing/Training_set_boston.csv\" )"
   ]
  },
  {
   "cell_type": "markdown",
   "metadata": {
    "colab_type": "text",
    "id": "wze8jmpKtBG4"
   },
   "source": [
    "## View Data"
   ]
  },
  {
   "cell_type": "code",
   "execution_count": 3,
   "metadata": {
    "colab": {
     "base_uri": "https://localhost:8080/",
     "height": 204
    },
    "colab_type": "code",
    "id": "Nwj5kkDjjQkx",
    "outputId": "0a69f714-5724-4ec9-856c-82f7e619b4a5"
   },
   "outputs": [
    {
     "data": {
      "text/html": [
       "<div>\n",
       "<style scoped>\n",
       "    .dataframe tbody tr th:only-of-type {\n",
       "        vertical-align: middle;\n",
       "    }\n",
       "\n",
       "    .dataframe tbody tr th {\n",
       "        vertical-align: top;\n",
       "    }\n",
       "\n",
       "    .dataframe thead th {\n",
       "        text-align: right;\n",
       "    }\n",
       "</style>\n",
       "<table border=\"1\" class=\"dataframe\">\n",
       "  <thead>\n",
       "    <tr style=\"text-align: right;\">\n",
       "      <th></th>\n",
       "      <th>CRIM</th>\n",
       "      <th>ZN</th>\n",
       "      <th>INDUS</th>\n",
       "      <th>CHAS</th>\n",
       "      <th>NOX</th>\n",
       "      <th>RM</th>\n",
       "      <th>AGE</th>\n",
       "      <th>DIS</th>\n",
       "      <th>RAD</th>\n",
       "      <th>TAX</th>\n",
       "      <th>PTRATIO</th>\n",
       "      <th>B</th>\n",
       "      <th>LSTAT</th>\n",
       "      <th>MEDV</th>\n",
       "    </tr>\n",
       "  </thead>\n",
       "  <tbody>\n",
       "    <tr>\n",
       "      <th>394</th>\n",
       "      <td>0.07165</td>\n",
       "      <td>0.0</td>\n",
       "      <td>25.65</td>\n",
       "      <td>0.0</td>\n",
       "      <td>0.581</td>\n",
       "      <td>6.004</td>\n",
       "      <td>84.1</td>\n",
       "      <td>2.1974</td>\n",
       "      <td>2.0</td>\n",
       "      <td>188.0</td>\n",
       "      <td>19.1</td>\n",
       "      <td>377.67</td>\n",
       "      <td>14.27</td>\n",
       "      <td>20.3</td>\n",
       "    </tr>\n",
       "    <tr>\n",
       "      <th>395</th>\n",
       "      <td>0.04741</td>\n",
       "      <td>0.0</td>\n",
       "      <td>11.93</td>\n",
       "      <td>0.0</td>\n",
       "      <td>0.573</td>\n",
       "      <td>6.030</td>\n",
       "      <td>80.8</td>\n",
       "      <td>2.5050</td>\n",
       "      <td>1.0</td>\n",
       "      <td>273.0</td>\n",
       "      <td>21.0</td>\n",
       "      <td>396.90</td>\n",
       "      <td>7.88</td>\n",
       "      <td>11.9</td>\n",
       "    </tr>\n",
       "    <tr>\n",
       "      <th>396</th>\n",
       "      <td>1.25179</td>\n",
       "      <td>0.0</td>\n",
       "      <td>8.14</td>\n",
       "      <td>0.0</td>\n",
       "      <td>0.538</td>\n",
       "      <td>5.570</td>\n",
       "      <td>98.1</td>\n",
       "      <td>3.7979</td>\n",
       "      <td>4.0</td>\n",
       "      <td>307.0</td>\n",
       "      <td>21.0</td>\n",
       "      <td>376.57</td>\n",
       "      <td>21.02</td>\n",
       "      <td>13.6</td>\n",
       "    </tr>\n",
       "    <tr>\n",
       "      <th>397</th>\n",
       "      <td>0.12579</td>\n",
       "      <td>45.0</td>\n",
       "      <td>3.44</td>\n",
       "      <td>0.0</td>\n",
       "      <td>0.437</td>\n",
       "      <td>6.556</td>\n",
       "      <td>29.1</td>\n",
       "      <td>4.5667</td>\n",
       "      <td>5.0</td>\n",
       "      <td>398.0</td>\n",
       "      <td>15.2</td>\n",
       "      <td>382.84</td>\n",
       "      <td>4.56</td>\n",
       "      <td>29.8</td>\n",
       "    </tr>\n",
       "    <tr>\n",
       "      <th>398</th>\n",
       "      <td>0.15876</td>\n",
       "      <td>0.0</td>\n",
       "      <td>10.81</td>\n",
       "      <td>0.0</td>\n",
       "      <td>0.413</td>\n",
       "      <td>5.961</td>\n",
       "      <td>17.5</td>\n",
       "      <td>5.2873</td>\n",
       "      <td>4.0</td>\n",
       "      <td>305.0</td>\n",
       "      <td>19.2</td>\n",
       "      <td>376.94</td>\n",
       "      <td>9.88</td>\n",
       "      <td>21.7</td>\n",
       "    </tr>\n",
       "    <tr>\n",
       "      <th>399</th>\n",
       "      <td>0.17120</td>\n",
       "      <td>0.0</td>\n",
       "      <td>8.56</td>\n",
       "      <td>0.0</td>\n",
       "      <td>0.520</td>\n",
       "      <td>5.836</td>\n",
       "      <td>91.9</td>\n",
       "      <td>2.2110</td>\n",
       "      <td>5.0</td>\n",
       "      <td>384.0</td>\n",
       "      <td>20.9</td>\n",
       "      <td>395.67</td>\n",
       "      <td>18.66</td>\n",
       "      <td>19.5</td>\n",
       "    </tr>\n",
       "    <tr>\n",
       "      <th>400</th>\n",
       "      <td>0.29916</td>\n",
       "      <td>20.0</td>\n",
       "      <td>6.96</td>\n",
       "      <td>0.0</td>\n",
       "      <td>0.464</td>\n",
       "      <td>5.856</td>\n",
       "      <td>42.1</td>\n",
       "      <td>4.4290</td>\n",
       "      <td>3.0</td>\n",
       "      <td>223.0</td>\n",
       "      <td>18.6</td>\n",
       "      <td>388.65</td>\n",
       "      <td>13.00</td>\n",
       "      <td>21.1</td>\n",
       "    </tr>\n",
       "    <tr>\n",
       "      <th>401</th>\n",
       "      <td>0.01501</td>\n",
       "      <td>80.0</td>\n",
       "      <td>2.01</td>\n",
       "      <td>0.0</td>\n",
       "      <td>0.435</td>\n",
       "      <td>6.635</td>\n",
       "      <td>29.7</td>\n",
       "      <td>8.3440</td>\n",
       "      <td>4.0</td>\n",
       "      <td>280.0</td>\n",
       "      <td>17.0</td>\n",
       "      <td>390.94</td>\n",
       "      <td>5.99</td>\n",
       "      <td>24.5</td>\n",
       "    </tr>\n",
       "    <tr>\n",
       "      <th>402</th>\n",
       "      <td>11.16040</td>\n",
       "      <td>0.0</td>\n",
       "      <td>18.10</td>\n",
       "      <td>0.0</td>\n",
       "      <td>0.740</td>\n",
       "      <td>6.629</td>\n",
       "      <td>94.6</td>\n",
       "      <td>2.1247</td>\n",
       "      <td>24.0</td>\n",
       "      <td>666.0</td>\n",
       "      <td>20.2</td>\n",
       "      <td>109.85</td>\n",
       "      <td>23.27</td>\n",
       "      <td>13.4</td>\n",
       "    </tr>\n",
       "    <tr>\n",
       "      <th>403</th>\n",
       "      <td>0.22876</td>\n",
       "      <td>0.0</td>\n",
       "      <td>8.56</td>\n",
       "      <td>0.0</td>\n",
       "      <td>0.520</td>\n",
       "      <td>6.405</td>\n",
       "      <td>85.4</td>\n",
       "      <td>2.7147</td>\n",
       "      <td>5.0</td>\n",
       "      <td>384.0</td>\n",
       "      <td>20.9</td>\n",
       "      <td>70.80</td>\n",
       "      <td>10.63</td>\n",
       "      <td>18.6</td>\n",
       "    </tr>\n",
       "  </tbody>\n",
       "</table>\n",
       "</div>"
      ],
      "text/plain": [
       "         CRIM    ZN  INDUS  CHAS    NOX     RM   AGE     DIS   RAD    TAX  \\\n",
       "394   0.07165   0.0  25.65   0.0  0.581  6.004  84.1  2.1974   2.0  188.0   \n",
       "395   0.04741   0.0  11.93   0.0  0.573  6.030  80.8  2.5050   1.0  273.0   \n",
       "396   1.25179   0.0   8.14   0.0  0.538  5.570  98.1  3.7979   4.0  307.0   \n",
       "397   0.12579  45.0   3.44   0.0  0.437  6.556  29.1  4.5667   5.0  398.0   \n",
       "398   0.15876   0.0  10.81   0.0  0.413  5.961  17.5  5.2873   4.0  305.0   \n",
       "399   0.17120   0.0   8.56   0.0  0.520  5.836  91.9  2.2110   5.0  384.0   \n",
       "400   0.29916  20.0   6.96   0.0  0.464  5.856  42.1  4.4290   3.0  223.0   \n",
       "401   0.01501  80.0   2.01   0.0  0.435  6.635  29.7  8.3440   4.0  280.0   \n",
       "402  11.16040   0.0  18.10   0.0  0.740  6.629  94.6  2.1247  24.0  666.0   \n",
       "403   0.22876   0.0   8.56   0.0  0.520  6.405  85.4  2.7147   5.0  384.0   \n",
       "\n",
       "     PTRATIO       B  LSTAT  MEDV  \n",
       "394     19.1  377.67  14.27  20.3  \n",
       "395     21.0  396.90   7.88  11.9  \n",
       "396     21.0  376.57  21.02  13.6  \n",
       "397     15.2  382.84   4.56  29.8  \n",
       "398     19.2  376.94   9.88  21.7  \n",
       "399     20.9  395.67  18.66  19.5  \n",
       "400     18.6  388.65  13.00  21.1  \n",
       "401     17.0  390.94   5.99  24.5  \n",
       "402     20.2  109.85  23.27  13.4  \n",
       "403     20.9   70.80  10.63  18.6  "
      ]
     },
     "execution_count": 3,
     "metadata": {},
     "output_type": "execute_result"
    }
   ],
   "source": [
    "boston_data.tail(10)"
   ]
  },
  {
   "cell_type": "markdown",
   "metadata": {
    "colab_type": "text",
    "id": "DBv1fy29jAzm"
   },
   "source": [
    "# Separating Input Features and Output Features\n",
    "Before building any machine learning model, we always separate the input variables and output variables. \n",
    "\n",
    "**Input Variables or Independent Variables** are those quantities whose values are changed naturally in an experiment\n",
    "\n",
    "**Output Variable or Dependent Variable** is the one whose values are dependent on the input variables. \n",
    "\n",
    "Like here in this data, we are trying to predict the price of a houce i.e. 'MEDV', so this is our Output Variable \n",
    "\n",
    "By convention input variables are represented with 'X' and output variables are represented with 'y'."
   ]
  },
  {
   "cell_type": "code",
   "execution_count": 4,
   "metadata": {
    "colab": {},
    "colab_type": "code",
    "id": "ErMptop0jyng"
   },
   "outputs": [],
   "source": [
    "X = boston_data.drop('MEDV', axis = 1)    # Input Variables/features\n",
    "y = boston_data.MEDV      # output variables/features"
   ]
  },
  {
   "cell_type": "markdown",
   "metadata": {
    "colab_type": "text",
    "id": "QgXPagiS3YKz"
   },
   "source": [
    "# Splitting the data"
   ]
  },
  {
   "cell_type": "markdown",
   "metadata": {
    "colab_type": "text",
    "id": "4vOkLlB-Ukjn"
   },
   "source": [
    "We want to check the performance of the model that we built. For this purpose, we always split the given data(both input and output data)  into **training set** which will be used to train the model, and **test set** which will be used to check how accurately the model is predicting outcomes.\n",
    "\n",
    "For this purpose we have a class called 'train_test_split' in the 'sklearn.model_selection' module.\n",
    "\n",
    "We split 80% of the data to the training set while 20% of the data to test set using below code.\n",
    "The test_size variable is where we actually specify the proportion of the test set.\n",
    "\n",
    "By passing our X and y variables into the train_test_split method, we are able to capture the splits in data by assigning 4 variables to the result."
   ]
  },
  {
   "cell_type": "code",
   "execution_count": 5,
   "metadata": {
    "colab": {},
    "colab_type": "code",
    "id": "1a1OFJmpUl2u"
   },
   "outputs": [],
   "source": [
    "# import train_test_split\n",
    "from sklearn.model_selection import train_test_split \n",
    "\n",
    "# Assign variables to capture train test split output\n",
    "X_train, X_test, y_train, y_test = train_test_split(X, y, test_size=0.2, random_state=42)\n",
    "\n",
    "# X_train: independent/input feature data for training the model\n",
    "# y_train: dependent/output feature data for training the model\n",
    "# X_test: independent/input feature data for testing the model; will be used to predict the output values\n",
    "# y_test: original dependent/output values of X_test; We will compare this values with our predicted values to check the performance of our built model.\n",
    " \n",
    "# test_size = 0.20: 20% of the data will go for test set and 70% of the data will go for train set\n",
    "# random_state = 42: this will fix the split i.e. there will be same split for each time you run the code"
   ]
  },
  {
   "cell_type": "code",
   "execution_count": 6,
   "metadata": {
    "colab": {
     "base_uri": "https://localhost:8080/",
     "height": 34
    },
    "colab_type": "code",
    "id": "UfKNjpJqkPUf",
    "outputId": "560f2f83-590b-4d7b-fda7-96d0c3ad8224"
   },
   "outputs": [
    {
     "name": "stdout",
     "output_type": "stream",
     "text": [
      "13\n"
     ]
    }
   ],
   "source": [
    "# find the number of input features\n",
    "n_features = X.shape[1]\n",
    "print(n_features) # this will be used to specify the input size when we create the model below"
   ]
  },
  {
   "cell_type": "markdown",
   "metadata": {
    "colab_type": "text",
    "id": "CwotIN0AU3Ci"
   },
   "source": [
    "# Training our model\n"
   ]
  },
  {
   "cell_type": "markdown",
   "metadata": {
    "colab_type": "text",
    "id": "5EV_0iiBMBz6"
   },
   "source": [
    "After splitting the data into training and testing sets, it's time to train our first deep learning model. Wait! Before training the deep learning model, let's understand the **Deep Learning Model Life-Cycle**."
   ]
  },
  {
   "cell_type": "markdown",
   "metadata": {
    "colab_type": "text",
    "id": "j3XXW9NL6H4s"
   },
   "source": [
    "## Neural Network: Architecture\n",
    "Here we are giving you just an overview of the architecture of Neural Network. You will know more about it in future modules.\n",
    "\n",
    "Neural Networks consists of an input and output layer with one or more hidden layers.\n",
    "\n",
    "![neural network architecture](https://dphi-courses.s3.ap-south-1.amazonaws.com/Deep+Learning+Bootcamp/nn+arch.png)"
   ]
  },
  {
   "cell_type": "markdown",
   "metadata": {
    "colab_type": "text",
    "id": "Ymbh14OgMu2Z"
   },
   "source": [
    "## The 5 Step Model Life-Cycle\n",
    "\n",
    "A model has a life-cycle, and this very simple knowledge provides the backbone for both modeling a dataset and understanding the tf.keras API.\n",
    "\n",
    "The five steps in the life-cycle are as follows:\n",
    "\n",
    "1. Define the model.\n",
    "2. Compile the model.\n",
    "3. Fit the model.\n",
    "4. Make predictions on the test data.\n",
    "5. Evaluate the model.\n",
    "\n",
    "We will take closer look into each of the steps and parallely build the deep learning model. Also, don't worry about the code for the moment if you don't understand it here. For the time being focus on the flow of building a deep learning model."
   ]
  },
  {
   "cell_type": "markdown",
   "metadata": {
    "colab_type": "text",
    "id": "auQ5lPFrN7GN"
   },
   "source": [
    "### 1. Define the model\n",
    "Defining the model requires that you first select the type of model that you need and then choose the architecture or network topology.\n",
    "\n",
    "Models can be defined either with the Sequential API or the Functional API (you will know this in later modules). Here we will define the model with Sequential API. Now **what is Sequential API?**\n",
    "\n",
    "**Sequential API**\n",
    "The sequential API is the simplest API to get started with Deep Learning. \n",
    "You will know more about it in upcoming learning units.\n",
    "\n"
   ]
  },
  {
   "cell_type": "code",
   "execution_count": 7,
   "metadata": {
    "colab": {},
    "colab_type": "code",
    "id": "JY303RWVPzkD"
   },
   "outputs": [],
   "source": [
    "from tensorflow.keras import Sequential    # import Sequential from tensorflow.keras\n",
    "from tensorflow.keras.layers import Dense  # import Dense from tensorflow.keras.layers\n",
    "from numpy.random import seed     # seed helps you to fix the randomness in the neural network.  \n",
    "import tensorflow"
   ]
  },
  {
   "cell_type": "code",
   "execution_count": 8,
   "metadata": {
    "colab": {},
    "colab_type": "code",
    "id": "mMDrQE9gQP6U"
   },
   "outputs": [],
   "source": [
    "# define the model\n",
    "model = Sequential()\n",
    "model.add(Dense(10, activation='relu', input_shape=(n_features,)))\n",
    "model.add(Dense(8, activation='relu'))\n",
    "model.add(Dense(1))"
   ]
  },
  {
   "cell_type": "code",
   "execution_count": 9,
   "metadata": {},
   "outputs": [
    {
     "name": "stdout",
     "output_type": "stream",
     "text": [
      "Model: \"sequential\"\n",
      "_________________________________________________________________\n",
      "Layer (type)                 Output Shape              Param #   \n",
      "=================================================================\n",
      "dense (Dense)                (None, 10)                140       \n",
      "_________________________________________________________________\n",
      "dense_1 (Dense)              (None, 8)                 88        \n",
      "_________________________________________________________________\n",
      "dense_2 (Dense)              (None, 1)                 9         \n",
      "=================================================================\n",
      "Total params: 237\n",
      "Trainable params: 237\n",
      "Non-trainable params: 0\n",
      "_________________________________________________________________\n"
     ]
    }
   ],
   "source": [
    "# the number of parameters will depend on the input being given.\n",
    "# Usually we add 1 bias term to the initial parameters to the\n",
    "# total number will be num_inputs + 1 (for bias)\n",
    "model.summary()"
   ]
  },
  {
   "cell_type": "markdown",
   "metadata": {
    "colab_type": "text",
    "id": "93ntHsm1QnLP"
   },
   "source": [
    "Note that the visible layer of the network is defined by the “input_shape” argument on the first hidden layer. \n",
    "\n",
    "The sequential API is easy to use because you keep calling model.add() until you have added all of your layers."
   ]
  },
  {
   "cell_type": "markdown",
   "metadata": {
    "colab_type": "text",
    "id": "ABBhVYtXRlJq"
   },
   "source": [
    "ReLU is an activation function which is defined mathematically as **F(x) = max(0,x)**. In other words, the output is x, if x is greater than 0, and the output is 0 if x is 0 or negative."
   ]
  },
  {
   "cell_type": "markdown",
   "metadata": {
    "colab_type": "text",
    "id": "D100gBMQSTn8"
   },
   "source": [
    "### 2. Compile the model\n",
    "Compiling the model requires that you first select a loss function that you want to optimize, such as mean squared error or cross-entropy.\n",
    "\n",
    "It also requires that you select an algorithm to perform the optimization procedure. We’re using **RMSprop** as our optimizer here. R \n",
    "\n",
    "It may also require that you select any performance metrics to keep track of during the model training process. The loss function used here is **mean squared error.**\n",
    "\n",
    "From an API perspective, this involves calling a function to compile the model with the chosen configuration, which will prepare the appropriate data structures required for the efficient use of the model you have defined."
   ]
  },
  {
   "cell_type": "code",
   "execution_count": 10,
   "metadata": {
    "colab": {},
    "colab_type": "code",
    "id": "doYNy1jJQa7J"
   },
   "outputs": [],
   "source": [
    "# import RMSprop optimizer\n",
    "from tensorflow.keras.optimizers import RMSprop\n",
    "optimizer = RMSprop(0.01)    # 0.01 is the learning rate"
   ]
  },
  {
   "cell_type": "markdown",
   "metadata": {
    "colab_type": "text",
    "id": "AiOzHe6K8iaM"
   },
   "source": [
    "**Why learning rate = 0.01?**\n",
    "\n",
    "It is important to find a good value for the learning rate for your model on your training dataset. we cannot analytically calculate the optimal learning rate for a given model on a given dataset. Instead, a good (or good enough) learning rate must be discovered via trial and error.\n",
    "\n",
    "The range of values to consider for the learning rate is less than 1.0 and greater than $10^{-6}$.\n",
    "\n",
    "A traditional default value for the learning rate is 0.1 or 0.01, and this may represent a good starting point on your problem."
   ]
  },
  {
   "cell_type": "code",
   "execution_count": 11,
   "metadata": {
    "colab": {},
    "colab_type": "code",
    "id": "gNxnRf2uUqev"
   },
   "outputs": [],
   "source": [
    "model.compile(loss='mean_squared_error', optimizer=optimizer)    # compile the model"
   ]
  },
  {
   "cell_type": "markdown",
   "metadata": {
    "colab_type": "text",
    "id": "GQPPF22pVHMU"
   },
   "source": [
    "### 3. Fitting the model\n",
    "Fitting the model requires that you first select the training configuration, such as the number of epochs (loops through the training dataset) and the batch size (number of samples in an epoch used to estimate model error).\n",
    "\n",
    "From an API perspective, this involves calling a function to perform the training process. This function will block (not return) until the training process has finished.\n"
   ]
  },
  {
   "cell_type": "markdown",
   "metadata": {},
   "source": [
    "#### Seed everything\n",
    "\n",
    "seed is something that we specify to have consistent randomization in the code. The weights of the parameters are usually randomly selected initially and they play some part in determining how the model will get trained.\n",
    "\n",
    "When we seed the randomization, we can generate results which will be consistent on a machine for reproducability."
   ]
  },
  {
   "cell_type": "code",
   "execution_count": 12,
   "metadata": {},
   "outputs": [],
   "source": [
    "import random\n",
    "\n",
    "seed_value = random.randint(2, 200)\n",
    "seed(seed_value)   # If you build the model with given parameters, set_random_seed will help you produce the same result on multiple execution\n",
    "\n",
    "\n",
    "# Recommended by Keras -------------------------------------------------------------------------------------\n",
    "# 1. Set `PYTHONHASHSEED` environment variable at a fixed value\n",
    "import os\n",
    "os.environ['PYTHONHASHSEED']=str(seed_value)\n",
    "\n",
    "# 2. Set `python` built-in pseudo-random generator at a fixed value\n",
    "random.seed(seed_value)\n",
    "\n",
    "# 3. Set `numpy` pseudo-random generator at a fixed value\n",
    "import numpy as np\n",
    "np.random.seed(seed_value)\n",
    "# Recommended by Keras -------------------------------------------------------------------------------------\n",
    "\n",
    "\n",
    "# 4. Set the `tensorflow` pseudo-random generator at a fixed value\n",
    "tensorflow.random.set_seed(seed_value) "
   ]
  },
  {
   "cell_type": "code",
   "execution_count": 13,
   "metadata": {
    "colab": {
     "base_uri": "https://localhost:8080/",
     "height": 374
    },
    "colab_type": "code",
    "id": "WnG7pev1UxNs",
    "outputId": "291a66d5-71bb-49db-d7e3-a19b843977e0"
   },
   "outputs": [
    {
     "name": "stdout",
     "output_type": "stream",
     "text": [
      "Train on 323 samples\n",
      "Epoch 1/10\n",
      "323/323 [==============================] - 0s 1ms/sample - loss: 3542.9283\n",
      "Epoch 2/10\n",
      "323/323 [==============================] - 0s 44us/sample - loss: 183.6492\n",
      "Epoch 3/10\n",
      "323/323 [==============================] - 0s 47us/sample - loss: 135.1724\n",
      "Epoch 4/10\n",
      "323/323 [==============================] - 0s 48us/sample - loss: 127.6798\n",
      "Epoch 5/10\n",
      "323/323 [==============================] - 0s 44us/sample - loss: 119.9629\n",
      "Epoch 6/10\n",
      "323/323 [==============================] - 0s 45us/sample - loss: 111.4058\n",
      "Epoch 7/10\n",
      "323/323 [==============================] - 0s 48us/sample - loss: 122.9407\n",
      "Epoch 8/10\n",
      "323/323 [==============================] - 0s 44us/sample - loss: 112.0140\n",
      "Epoch 9/10\n",
      "323/323 [==============================] - 0s 48us/sample - loss: 115.9269\n",
      "Epoch 10/10\n",
      "323/323 [==============================] - 0s 46us/sample - loss: 113.1913\n"
     ]
    },
    {
     "data": {
      "text/plain": [
       "<tensorflow.python.keras.callbacks.History at 0x13daa71d0>"
      ]
     },
     "execution_count": 13,
     "metadata": {},
     "output_type": "execute_result"
    }
   ],
   "source": [
    "model.fit(X_train, y_train, epochs=10, batch_size=30, verbose = 1)    # fit the model"
   ]
  },
  {
   "cell_type": "markdown",
   "metadata": {
    "colab_type": "text",
    "id": "XZzI8-Kl_Rdg"
   },
   "source": [
    "What is **verbose**?\n",
    "\n",
    "By setting verbose 0, 1 or 2 you just say how do you want to 'see' the training progress for each epoch.\n",
    "\n",
    "`verbose=0` will show you nothing (silent)\n",
    "\n",
    "`verbose=1` will show you an animated progress bar like this:\n",
    "\n",
    "![progres_bar](https://dphi-courses.s3.ap-south-1.amazonaws.com/Deep+Learning+Bootcamp/progress+bar.png)\n",
    "\n",
    "`verbose=2` will just mention the number of epoch like this:\n",
    "\n",
    "![verbose = 2](https://dphi-courses.s3.ap-south-1.amazonaws.com/Deep+Learning+Bootcamp/epoch.png)"
   ]
  },
  {
   "cell_type": "markdown",
   "metadata": {
    "colab_type": "text",
    "id": "t_tKcVVzhJf8"
   },
   "source": [
    "### 4. Evaluate the model\n",
    "Evaluating the model requires that you first choose a holdout dataset used to evaluate the model. This should be data not used in the training process i.e. the X_test.\n",
    "\n",
    "From an API perspective, this involves calling a function with the holdout dataset and getting a loss and perhaps other metrics that can be reported."
   ]
  },
  {
   "cell_type": "code",
   "execution_count": 14,
   "metadata": {
    "colab": {
     "base_uri": "https://localhost:8080/",
     "height": 88
    },
    "colab_type": "code",
    "id": "qC63QoqchIa1",
    "outputId": "646c3c44-0773-4afd-84df-3dedc464bb9d"
   },
   "outputs": [
    {
     "name": "stdout",
     "output_type": "stream",
     "text": [
      "81/81 [==============================] - 0s 766us/sample - loss: 53.5493\n"
     ]
    },
    {
     "data": {
      "text/plain": [
       "53.549260787021964"
      ]
     },
     "execution_count": 14,
     "metadata": {},
     "output_type": "execute_result"
    }
   ],
   "source": [
    "model.evaluate(X_test, y_test)"
   ]
  },
  {
   "cell_type": "markdown",
   "metadata": {
    "colab_type": "text",
    "id": "gHM4sYEOnD7j"
   },
   "source": [
    "The mean squared error we got here is 64.8. Now, **what does it mean?**\n",
    "\n",
    "When you subtract the predicted values (of X_test data) from the acutal value (of X_test data), then square it and sum all the squares, and finally take a mean (i.e. average) of it, the result you will get is 64.8 in this case.\n",
    "\n",
    "evaluate() does this task automatically. If you want to get the prediciton for X_test you can do **`model.predict(X_test)`**"
   ]
  },
  {
   "cell_type": "code",
   "execution_count": 15,
   "metadata": {},
   "outputs": [
    {
     "data": {
      "text/plain": [
       "(81,)"
      ]
     },
     "execution_count": 15,
     "metadata": {},
     "output_type": "execute_result"
    }
   ],
   "source": [
    "y_test.values.shape"
   ]
  },
  {
   "cell_type": "code",
   "execution_count": 16,
   "metadata": {},
   "outputs": [],
   "source": [
    "y_pred = model.predict(X_test)"
   ]
  },
  {
   "cell_type": "code",
   "execution_count": 17,
   "metadata": {},
   "outputs": [
    {
     "data": {
      "text/plain": [
       "(81,)"
      ]
     },
     "execution_count": 17,
     "metadata": {},
     "output_type": "execute_result"
    }
   ],
   "source": [
    "y_pred.flatten().shape"
   ]
  },
  {
   "cell_type": "code",
   "execution_count": 18,
   "metadata": {},
   "outputs": [],
   "source": [
    "diff = np.subtract(model.predict(X_test).flatten(), y_test.values)"
   ]
  },
  {
   "cell_type": "code",
   "execution_count": 19,
   "metadata": {},
   "outputs": [
    {
     "data": {
      "text/plain": [
       "(81,)"
      ]
     },
     "execution_count": 19,
     "metadata": {},
     "output_type": "execute_result"
    }
   ],
   "source": [
    "diff.shape"
   ]
  },
  {
   "cell_type": "code",
   "execution_count": 20,
   "metadata": {},
   "outputs": [],
   "source": [
    "diff = diff * diff"
   ]
  },
  {
   "cell_type": "code",
   "execution_count": 21,
   "metadata": {},
   "outputs": [
    {
     "data": {
      "text/plain": [
       "(81,)"
      ]
     },
     "execution_count": 21,
     "metadata": {},
     "output_type": "execute_result"
    }
   ],
   "source": [
    "diff.shape"
   ]
  },
  {
   "cell_type": "code",
   "execution_count": 22,
   "metadata": {},
   "outputs": [
    {
     "data": {
      "text/plain": [
       "53.54925939919559"
      ]
     },
     "execution_count": 22,
     "metadata": {},
     "output_type": "execute_result"
    }
   ],
   "source": [
    "sum(diff)/(len(diff))"
   ]
  },
  {
   "cell_type": "markdown",
   "metadata": {},
   "source": [
    "#### Define plotting functions\n",
    "\n",
    "To get a better undertanding of what's happening, we'll plot the values of the loss function with respect to the number of epochs that it takes throught the dataset. Hopefully, after each epoch, the loss should decrease and move towards it's minimum value"
   ]
  },
  {
   "cell_type": "code",
   "execution_count": 23,
   "metadata": {},
   "outputs": [],
   "source": [
    "def plot_the_loss_curve(epochs, rmse):\n",
    "    \"\"\"Plot a curve of loss vs. epoch.\"\"\"\n",
    "    plt.figure()\n",
    "    plt.xlabel(\"Epoch\")\n",
    "    plt.ylabel(\"Root Mean Squared Error\")\n",
    "\n",
    "    plt.plot(epochs, rmse, label=\"Loss\")\n",
    "    plt.legend()\n",
    "    plt.show()  "
   ]
  },
  {
   "cell_type": "markdown",
   "metadata": {
    "colab_type": "text",
    "id": "li94FIlfnMBB"
   },
   "source": [
    "### Hyperparameter Tunning\n",
    "The hyperparameters here in this notebook are:\n",
    "1. Learning Rate\n",
    "2. Epochs\n",
    "3. Batch Size\n",
    "\n",
    "We can try and change the values of these parameters and see the performance  of the model (evaluate the model) on X_test data"
   ]
  },
  {
   "cell_type": "markdown",
   "metadata": {
    "colab_type": "text",
    "id": "XljOzViRoRbp"
   },
   "source": [
    "**Learning Rate**\n",
    "\n",
    "A scalar used to train a model via gradient descent. During each iteration, the **gradient descent** algorithm multiplies the learning rate by the gradient. The resulting product is called the **gradient step**.\n",
    "\n",
    "Learning rate is a key **hyperparameter**."
   ]
  },
  {
   "cell_type": "code",
   "execution_count": 24,
   "metadata": {
    "colab": {
     "base_uri": "https://localhost:8080/",
     "height": 428
    },
    "colab_type": "code",
    "id": "puhKnL9KKuZX",
    "outputId": "c3ecbeff-a8e1-4a57-d9f8-61750e124fa3"
   },
   "outputs": [
    {
     "name": "stdout",
     "output_type": "stream",
     "text": [
      "Train on 323 samples\n",
      "Epoch 1/10\n",
      "323/323 [==============================] - 0s 1ms/sample - loss: 3852.9918\n",
      "Epoch 2/10\n",
      "323/323 [==============================] - 0s 46us/sample - loss: 605.8954\n",
      "Epoch 3/10\n",
      "323/323 [==============================] - 0s 41us/sample - loss: 502.8046\n",
      "Epoch 4/10\n",
      "323/323 [==============================] - 0s 54us/sample - loss: 203.1470\n",
      "Epoch 5/10\n",
      "323/323 [==============================] - 0s 53us/sample - loss: 110.2034\n",
      "Epoch 6/10\n",
      "323/323 [==============================] - 0s 42us/sample - loss: 123.7178\n",
      "Epoch 7/10\n",
      "323/323 [==============================] - 0s 46us/sample - loss: 129.7439\n",
      "Epoch 8/10\n",
      "323/323 [==============================] - 0s 45us/sample - loss: 286.9895\n",
      "Epoch 9/10\n",
      "323/323 [==============================] - 0s 42us/sample - loss: 183.4514\n",
      "Epoch 10/10\n",
      "323/323 [==============================] - 0s 44us/sample - loss: 150.8701\n",
      "81/81 [==============================] - 0s 633us/sample - loss: 147.6725\n",
      "The MSE value is:  147.67254073531538\n"
     ]
    }
   ],
   "source": [
    "####################### Complete example to check the performance of the model with different learning rates #############################\n",
    "# define the model\n",
    "\n",
    "model = Sequential()\n",
    "model.add(Dense(10, activation='relu', input_shape=(n_features,)))\n",
    "model.add(Dense(8, activation='relu'))\n",
    "model.add(Dense(1))\n",
    "\n",
    "optimizer = RMSprop(0.1)    # 0.1 is the learning rate\n",
    "model.compile(loss='mean_squared_error',optimizer=optimizer)    # compile the model\n",
    "\n",
    "# fit the model \n",
    "model.fit(X_train, y_train, epochs=10, batch_size=30, verbose = 1)\n",
    "\n",
    "# evaluate the model\n",
    "print('The MSE value is: ', model.evaluate(X_test, y_test))"
   ]
  },
  {
   "cell_type": "markdown",
   "metadata": {
    "colab_type": "text",
    "id": "VPneBHxHYxfC"
   },
   "source": [
    "As you can see above, how the loss (cost) i.e. MSE has changed by just changing the learning rate."
   ]
  },
  {
   "cell_type": "markdown",
   "metadata": {
    "colab_type": "text",
    "id": "fhi50q4rhUiF"
   },
   "source": [
    "### Exercise 1\n",
    "\n",
    "Test several learning rate values to see the impact of varying this value when defining your model."
   ]
  },
  {
   "cell_type": "code",
   "execution_count": 25,
   "metadata": {
    "colab": {},
    "colab_type": "code",
    "id": "k4BqC2Cfo159"
   },
   "outputs": [
    {
     "name": "stdout",
     "output_type": "stream",
     "text": [
      "Train on 323 samples\n",
      "Epoch 1/20\n",
      "323/323 [==============================] - 0s 1ms/sample - loss: 343.7974\n",
      "Epoch 2/20\n",
      "323/323 [==============================] - 0s 46us/sample - loss: 324.8378\n",
      "Epoch 3/20\n",
      "323/323 [==============================] - 0s 42us/sample - loss: 125.5561\n",
      "Epoch 4/20\n",
      "323/323 [==============================] - 0s 57us/sample - loss: 128.8586\n",
      "Epoch 5/20\n",
      "323/323 [==============================] - 0s 42us/sample - loss: 144.5521\n",
      "Epoch 6/20\n",
      "323/323 [==============================] - 0s 60us/sample - loss: 138.0498\n",
      "Epoch 7/20\n",
      "323/323 [==============================] - 0s 44us/sample - loss: 142.1506\n",
      "Epoch 8/20\n",
      "323/323 [==============================] - 0s 45us/sample - loss: 116.8843\n",
      "Epoch 9/20\n",
      "323/323 [==============================] - 0s 43us/sample - loss: 138.3841\n",
      "Epoch 10/20\n",
      "323/323 [==============================] - 0s 42us/sample - loss: 127.0573\n",
      "Epoch 11/20\n",
      "323/323 [==============================] - 0s 44us/sample - loss: 136.7117\n",
      "Epoch 12/20\n",
      "323/323 [==============================] - 0s 43us/sample - loss: 80.5961\n",
      "Epoch 13/20\n",
      "323/323 [==============================] - 0s 44us/sample - loss: 105.2849\n",
      "Epoch 14/20\n",
      "323/323 [==============================] - 0s 43us/sample - loss: 140.3133\n",
      "Epoch 15/20\n",
      "323/323 [==============================] - 0s 44us/sample - loss: 110.5351\n",
      "Epoch 16/20\n",
      "323/323 [==============================] - 0s 48us/sample - loss: 94.8067\n",
      "Epoch 17/20\n",
      "323/323 [==============================] - 0s 44us/sample - loss: 140.4404\n",
      "Epoch 18/20\n",
      "323/323 [==============================] - 0s 43us/sample - loss: 117.0459\n",
      "Epoch 19/20\n",
      "323/323 [==============================] - 0s 46us/sample - loss: 97.7931\n",
      "Epoch 20/20\n",
      "323/323 [==============================] - 0s 39us/sample - loss: 94.0652\n",
      "81/81 [==============================] - 0s 611us/sample - loss: 71.8345\n"
     ]
    },
    {
     "data": {
      "text/plain": [
       "71.83454560644833"
      ]
     },
     "execution_count": 25,
     "metadata": {},
     "output_type": "execute_result"
    }
   ],
   "source": [
    "# Play with learning rate\n",
    "learning_rate = 0.1          # Replace ? with a floating-point number(decimal no.)\n",
    "epochs = 20\n",
    "optimizer = RMSprop(learning_rate)\n",
    "model.compile(loss='mean_squared_error',optimizer=optimizer)    # Compile the model\n",
    "history = model.fit(X_train, y_train, epochs=epochs, batch_size=30)       # Fit the model\n",
    "model.evaluate(X_test, y_test)                                  # Evaluate the model"
   ]
  },
  {
   "cell_type": "code",
   "execution_count": 26,
   "metadata": {},
   "outputs": [
    {
     "data": {
      "image/png": "[encoded data removed]",
      "text/plain": [
       "<Figure size 432x288 with 1 Axes>"
      ]
     },
     "metadata": {
      "needs_background": "light"
     },
     "output_type": "display_data"
    }
   ],
   "source": [
    "plot_the_loss_curve(history.epoch, history.history['loss'])"
   ]
  },
  {
   "cell_type": "markdown",
   "metadata": {
    "colab_type": "text",
    "id": "Mov9-uVwpmkd"
   },
   "source": [
    "**Epochs**\n",
    "\n",
    "A full training pass over the entire dataset such that each example has been seen once. Thus, an epoch represents N/batch size training iterations, where N is the total number of examples."
   ]
  },
  {
   "cell_type": "code",
   "execution_count": 27,
   "metadata": {},
   "outputs": [
    {
     "data": {
      "text/plain": [
       "(323, 13)"
      ]
     },
     "execution_count": 27,
     "metadata": {},
     "output_type": "execute_result"
    }
   ],
   "source": [
    "X_train.shape # total number of samples = 323"
   ]
  },
  {
   "cell_type": "code",
   "execution_count": 28,
   "metadata": {
    "colab": {
     "base_uri": "https://localhost:8080/",
     "height": 1000
    },
    "colab_type": "code",
    "collapsed": true,
    "id": "zlZv50iKZPqo",
    "jupyter": {
     "outputs_hidden": true
    },
    "outputId": "36ef904c-7b07-4f63-954f-98b1a20b55f1"
   },
   "outputs": [
    {
     "name": "stdout",
     "output_type": "stream",
     "text": [
      "Train on 323 samples\n",
      "Epoch 1/100\n",
      "323/323 [==============================] - 0s 1ms/sample - loss: 779.2674\n",
      "Epoch 2/100\n",
      "323/323 [==============================] - 0s 45us/sample - loss: 90.3773\n",
      "Epoch 3/100\n",
      "323/323 [==============================] - 0s 45us/sample - loss: 106.2122\n",
      "Epoch 4/100\n",
      "323/323 [==============================] - 0s 48us/sample - loss: 116.1714\n",
      "Epoch 5/100\n",
      "323/323 [==============================] - 0s 79us/sample - loss: 92.8123\n",
      "Epoch 6/100\n",
      "323/323 [==============================] - 0s 53us/sample - loss: 95.4058\n",
      "Epoch 7/100\n",
      "323/323 [==============================] - 0s 44us/sample - loss: 95.6812\n",
      "Epoch 8/100\n",
      "323/323 [==============================] - 0s 44us/sample - loss: 81.5782\n",
      "Epoch 9/100\n",
      "323/323 [==============================] - 0s 46us/sample - loss: 96.0180\n",
      "Epoch 10/100\n",
      "323/323 [==============================] - 0s 47us/sample - loss: 86.4723\n",
      "Epoch 11/100\n",
      "323/323 [==============================] - 0s 43us/sample - loss: 66.0415\n",
      "Epoch 12/100\n",
      "323/323 [==============================] - 0s 42us/sample - loss: 80.7756\n",
      "Epoch 13/100\n",
      "323/323 [==============================] - 0s 44us/sample - loss: 77.7597\n",
      "Epoch 14/100\n",
      "323/323 [==============================] - 0s 44us/sample - loss: 69.2761\n",
      "Epoch 15/100\n",
      "323/323 [==============================] - 0s 45us/sample - loss: 74.7446\n",
      "Epoch 16/100\n",
      "323/323 [==============================] - 0s 43us/sample - loss: 76.9908\n",
      "Epoch 17/100\n",
      "323/323 [==============================] - 0s 45us/sample - loss: 76.6107\n",
      "Epoch 18/100\n",
      "323/323 [==============================] - 0s 42us/sample - loss: 71.1128\n",
      "Epoch 19/100\n",
      "323/323 [==============================] - 0s 42us/sample - loss: 67.9994\n",
      "Epoch 20/100\n",
      "323/323 [==============================] - 0s 47us/sample - loss: 64.6969\n",
      "Epoch 21/100\n",
      "323/323 [==============================] - 0s 45us/sample - loss: 72.5926\n",
      "Epoch 22/100\n",
      "323/323 [==============================] - 0s 42us/sample - loss: 52.0385\n",
      "Epoch 23/100\n",
      "323/323 [==============================] - 0s 46us/sample - loss: 66.4203\n",
      "Epoch 24/100\n",
      "323/323 [==============================] - 0s 47us/sample - loss: 58.2275\n",
      "Epoch 25/100\n",
      "323/323 [==============================] - 0s 44us/sample - loss: 59.0364\n",
      "Epoch 26/100\n",
      "323/323 [==============================] - 0s 44us/sample - loss: 58.6424\n",
      "Epoch 27/100\n",
      "323/323 [==============================] - 0s 42us/sample - loss: 55.0437\n",
      "Epoch 28/100\n",
      "323/323 [==============================] - 0s 43us/sample - loss: 54.3899\n",
      "Epoch 29/100\n",
      "323/323 [==============================] - 0s 45us/sample - loss: 53.4645\n",
      "Epoch 30/100\n",
      "323/323 [==============================] - 0s 42us/sample - loss: 47.6370\n",
      "Epoch 31/100\n",
      "323/323 [==============================] - 0s 44us/sample - loss: 46.0004\n",
      "Epoch 32/100\n",
      "323/323 [==============================] - 0s 44us/sample - loss: 59.2141\n",
      "Epoch 33/100\n",
      "323/323 [==============================] - 0s 44us/sample - loss: 51.4808\n",
      "Epoch 34/100\n",
      "323/323 [==============================] - 0s 44us/sample - loss: 48.5556\n",
      "Epoch 35/100\n",
      "323/323 [==============================] - 0s 44us/sample - loss: 48.1779\n",
      "Epoch 36/100\n",
      "323/323 [==============================] - 0s 45us/sample - loss: 45.9281\n",
      "Epoch 37/100\n",
      "323/323 [==============================] - 0s 42us/sample - loss: 49.0529\n",
      "Epoch 38/100\n",
      "323/323 [==============================] - 0s 42us/sample - loss: 44.9997\n",
      "Epoch 39/100\n",
      "323/323 [==============================] - 0s 42us/sample - loss: 50.6981\n",
      "Epoch 40/100\n",
      "323/323 [==============================] - 0s 42us/sample - loss: 40.3308\n",
      "Epoch 41/100\n",
      "323/323 [==============================] - 0s 41us/sample - loss: 60.3304\n",
      "Epoch 42/100\n",
      "323/323 [==============================] - 0s 43us/sample - loss: 33.6350\n",
      "Epoch 43/100\n",
      "323/323 [==============================] - 0s 44us/sample - loss: 50.8828\n",
      "Epoch 44/100\n",
      "323/323 [==============================] - 0s 40us/sample - loss: 37.7698\n",
      "Epoch 45/100\n",
      "323/323 [==============================] - 0s 44us/sample - loss: 35.0152\n",
      "Epoch 46/100\n",
      "323/323 [==============================] - 0s 43us/sample - loss: 46.4097\n",
      "Epoch 47/100\n",
      "323/323 [==============================] - 0s 41us/sample - loss: 40.1406\n",
      "Epoch 48/100\n",
      "323/323 [==============================] - 0s 46us/sample - loss: 47.0542\n",
      "Epoch 49/100\n",
      "323/323 [==============================] - 0s 43us/sample - loss: 39.9722\n",
      "Epoch 50/100\n",
      "323/323 [==============================] - 0s 42us/sample - loss: 49.1545\n",
      "Epoch 51/100\n",
      "323/323 [==============================] - 0s 42us/sample - loss: 41.7313\n",
      "Epoch 52/100\n",
      "323/323 [==============================] - 0s 42us/sample - loss: 33.1227\n",
      "Epoch 53/100\n",
      "323/323 [==============================] - 0s 40us/sample - loss: 46.7185\n",
      "Epoch 54/100\n",
      "323/323 [==============================] - 0s 43us/sample - loss: 36.3416\n",
      "Epoch 55/100\n",
      "323/323 [==============================] - 0s 41us/sample - loss: 36.2967\n",
      "Epoch 56/100\n",
      "323/323 [==============================] - 0s 41us/sample - loss: 46.9293\n",
      "Epoch 57/100\n",
      "323/323 [==============================] - 0s 46us/sample - loss: 39.4794\n",
      "Epoch 58/100\n",
      "323/323 [==============================] - 0s 42us/sample - loss: 39.8657\n",
      "Epoch 59/100\n",
      "323/323 [==============================] - 0s 44us/sample - loss: 36.3635\n",
      "Epoch 60/100\n",
      "323/323 [==============================] - 0s 43us/sample - loss: 39.8302\n",
      "Epoch 61/100\n",
      "323/323 [==============================] - 0s 46us/sample - loss: 35.6971\n",
      "Epoch 62/100\n",
      "323/323 [==============================] - 0s 41us/sample - loss: 41.2701\n",
      "Epoch 63/100\n",
      "323/323 [==============================] - 0s 46us/sample - loss: 40.1464\n",
      "Epoch 64/100\n",
      "323/323 [==============================] - 0s 44us/sample - loss: 32.6426\n",
      "Epoch 65/100\n",
      "323/323 [==============================] - 0s 41us/sample - loss: 42.1818\n",
      "Epoch 66/100\n",
      "323/323 [==============================] - 0s 52us/sample - loss: 36.0643\n",
      "Epoch 67/100\n",
      "323/323 [==============================] - 0s 47us/sample - loss: 37.1797\n",
      "Epoch 68/100\n",
      "323/323 [==============================] - 0s 45us/sample - loss: 39.7682\n",
      "Epoch 69/100\n",
      "323/323 [==============================] - 0s 45us/sample - loss: 28.8304\n",
      "Epoch 70/100\n",
      "323/323 [==============================] - 0s 43us/sample - loss: 35.4105\n",
      "Epoch 71/100\n",
      "323/323 [==============================] - 0s 47us/sample - loss: 31.1776\n",
      "Epoch 72/100\n",
      "323/323 [==============================] - 0s 42us/sample - loss: 44.0173\n",
      "Epoch 73/100\n",
      "323/323 [==============================] - 0s 44us/sample - loss: 29.8790\n",
      "Epoch 74/100\n",
      "323/323 [==============================] - 0s 42us/sample - loss: 40.0739\n",
      "Epoch 75/100\n",
      "323/323 [==============================] - 0s 43us/sample - loss: 34.7984\n",
      "Epoch 76/100\n",
      "323/323 [==============================] - 0s 44us/sample - loss: 25.4359\n",
      "Epoch 77/100\n",
      "323/323 [==============================] - 0s 45us/sample - loss: 42.0926\n",
      "Epoch 78/100\n",
      "323/323 [==============================] - 0s 41us/sample - loss: 32.9081\n",
      "Epoch 79/100\n",
      "323/323 [==============================] - 0s 53us/sample - loss: 34.4714\n",
      "Epoch 80/100\n",
      "323/323 [==============================] - 0s 49us/sample - loss: 39.1492\n",
      "Epoch 81/100\n",
      "323/323 [==============================] - 0s 46us/sample - loss: 26.0022\n",
      "Epoch 82/100\n",
      "323/323 [==============================] - 0s 48us/sample - loss: 34.2694\n",
      "Epoch 83/100\n",
      "323/323 [==============================] - 0s 44us/sample - loss: 44.6201\n",
      "Epoch 84/100\n",
      "323/323 [==============================] - 0s 44us/sample - loss: 28.5248\n",
      "Epoch 85/100\n",
      "323/323 [==============================] - 0s 44us/sample - loss: 37.2560\n",
      "Epoch 86/100\n",
      "323/323 [==============================] - 0s 44us/sample - loss: 34.1021\n",
      "Epoch 87/100\n",
      "323/323 [==============================] - 0s 44us/sample - loss: 33.0781\n",
      "Epoch 88/100\n",
      "323/323 [==============================] - 0s 41us/sample - loss: 30.3239\n",
      "Epoch 89/100\n",
      "323/323 [==============================] - 0s 42us/sample - loss: 41.6006\n",
      "Epoch 90/100\n",
      "323/323 [==============================] - 0s 44us/sample - loss: 22.9749\n",
      "Epoch 91/100\n",
      "323/323 [==============================] - 0s 43us/sample - loss: 45.6504\n",
      "Epoch 92/100\n",
      "323/323 [==============================] - 0s 43us/sample - loss: 22.9598\n",
      "Epoch 93/100\n",
      "323/323 [==============================] - 0s 45us/sample - loss: 39.6132\n",
      "Epoch 94/100\n",
      "323/323 [==============================] - 0s 45us/sample - loss: 41.1154\n",
      "Epoch 95/100\n",
      "323/323 [==============================] - 0s 43us/sample - loss: 25.9910\n",
      "Epoch 96/100\n",
      "323/323 [==============================] - 0s 41us/sample - loss: 22.4914\n",
      "Epoch 97/100\n",
      "323/323 [==============================] - 0s 42us/sample - loss: 33.6054\n",
      "Epoch 98/100\n",
      "323/323 [==============================] - 0s 41us/sample - loss: 36.7831\n",
      "Epoch 99/100\n",
      "323/323 [==============================] - 0s 46us/sample - loss: 33.0215\n",
      "Epoch 100/100\n",
      "323/323 [==============================] - 0s 40us/sample - loss: 26.2922\n",
      "81/81 [==============================] - 0s 622us/sample - loss: 37.6629\n",
      "The MSE value is:  37.66293480955524\n"
     ]
    }
   ],
   "source": [
    "############# Complete example to check the performance of the model with different epochs and learning rate = 0.01 ####################\n",
    "# define the model\n",
    "\n",
    "model = Sequential()\n",
    "model.add(Dense(10, activation='relu', input_shape=(n_features,)))\n",
    "model.add(Dense(8, activation='relu'))\n",
    "model.add(Dense(1))\n",
    "\n",
    "optimizer = RMSprop(0.01)    # 0.1 is the learning rate\n",
    "model.compile(loss='mean_squared_error',optimizer=optimizer)    # Compile the model\n",
    "\n",
    "# fit the model \n",
    "history = model.fit(X_train, y_train, epochs=100, batch_size=30, verbose = 1)\n",
    "\n",
    "# evaluate the model\n",
    "print('The MSE value is: ', model.evaluate(X_test, y_test))"
   ]
  },
  {
   "cell_type": "code",
   "execution_count": 29,
   "metadata": {},
   "outputs": [
    {
     "data": {
      "image/png": "[encoded data removed]",
      "text/plain": [
       "<Figure size 432x288 with 1 Axes>"
      ]
     },
     "metadata": {
      "needs_background": "light"
     },
     "output_type": "display_data"
    }
   ],
   "source": [
    "plot_the_loss_curve(history.epoch, history.history['loss'])"
   ]
  },
  {
   "cell_type": "markdown",
   "metadata": {
    "colab_type": "text",
    "id": "CPakaxBaZZNA"
   },
   "source": [
    "You can see above how the loss (cost) i.e. MSE has changed just by changing the epochs and keeping the learning rate same as 0.01 (i.e. the first model we built)"
   ]
  },
  {
   "cell_type": "markdown",
   "metadata": {
    "colab_type": "text",
    "id": "6WoG362ohrQF"
   },
   "source": [
    "### Exercise 2\n",
    "\n",
    "Test several epoch values to see the impact of varying this value when defining your model."
   ]
  },
  {
   "cell_type": "code",
   "execution_count": 30,
   "metadata": {
    "colab": {},
    "colab_type": "code",
    "collapsed": true,
    "id": "QUmO4ehKqC2_",
    "jupyter": {
     "outputs_hidden": true
    }
   },
   "outputs": [
    {
     "name": "stdout",
     "output_type": "stream",
     "text": [
      "Train on 323 samples\n",
      "Epoch 1/100\n",
      "323/323 [==============================] - 0s 1ms/sample - loss: 494.3871\n",
      "Epoch 2/100\n",
      "323/323 [==============================] - 0s 43us/sample - loss: 489.0458\n",
      "Epoch 3/100\n",
      "323/323 [==============================] - 0s 47us/sample - loss: 445.1431\n",
      "Epoch 4/100\n",
      "323/323 [==============================] - 0s 48us/sample - loss: 405.9655\n",
      "Epoch 5/100\n",
      "323/323 [==============================] - 0s 43us/sample - loss: 369.8630\n",
      "Epoch 6/100\n",
      "323/323 [==============================] - 0s 46us/sample - loss: 335.7336\n",
      "Epoch 7/100\n",
      "323/323 [==============================] - 0s 47us/sample - loss: 304.4721\n",
      "Epoch 8/100\n",
      "323/323 [==============================] - 0s 42us/sample - loss: 275.6164\n",
      "Epoch 9/100\n",
      "323/323 [==============================] - 0s 57us/sample - loss: 248.6708\n",
      "Epoch 10/100\n",
      "323/323 [==============================] - 0s 50us/sample - loss: 224.3012\n",
      "Epoch 11/100\n",
      "323/323 [==============================] - 0s 44us/sample - loss: 202.2789\n",
      "Epoch 12/100\n",
      "323/323 [==============================] - 0s 45us/sample - loss: 181.8262\n",
      "Epoch 13/100\n",
      "323/323 [==============================] - 0s 43us/sample - loss: 163.7843\n",
      "Epoch 14/100\n",
      "323/323 [==============================] - 0s 42us/sample - loss: 147.9701\n",
      "Epoch 15/100\n",
      "323/323 [==============================] - 0s 48us/sample - loss: 134.3894\n",
      "Epoch 16/100\n",
      "323/323 [==============================] - 0s 60us/sample - loss: 122.8483\n",
      "Epoch 17/100\n",
      "323/323 [==============================] - 0s 46us/sample - loss: 113.2430\n",
      "Epoch 18/100\n",
      "323/323 [==============================] - 0s 44us/sample - loss: 105.8269\n",
      "Epoch 19/100\n",
      "323/323 [==============================] - 0s 45us/sample - loss: 100.0494\n",
      "Epoch 20/100\n",
      "323/323 [==============================] - 0s 50us/sample - loss: 96.1901\n",
      "Epoch 21/100\n",
      "323/323 [==============================] - 0s 48us/sample - loss: 93.7272\n",
      "Epoch 22/100\n",
      "323/323 [==============================] - 0s 46us/sample - loss: 92.0279\n",
      "Epoch 23/100\n",
      "323/323 [==============================] - 0s 43us/sample - loss: 91.2668\n",
      "Epoch 24/100\n",
      "323/323 [==============================] - 0s 49us/sample - loss: 91.0421\n",
      "Epoch 25/100\n",
      "323/323 [==============================] - 0s 51us/sample - loss: 91.0423\n",
      "Epoch 26/100\n",
      "323/323 [==============================] - 0s 53us/sample - loss: 91.0008\n",
      "Epoch 27/100\n",
      "323/323 [==============================] - 0s 46us/sample - loss: 91.0129\n",
      "Epoch 28/100\n",
      "323/323 [==============================] - 0s 44us/sample - loss: 91.0115\n",
      "Epoch 29/100\n",
      "323/323 [==============================] - 0s 44us/sample - loss: 91.0153\n",
      "Epoch 30/100\n",
      "323/323 [==============================] - 0s 44us/sample - loss: 90.9617\n",
      "Epoch 31/100\n",
      "323/323 [==============================] - 0s 42us/sample - loss: 91.0191\n",
      "Epoch 32/100\n",
      "323/323 [==============================] - 0s 44us/sample - loss: 90.9161\n",
      "Epoch 33/100\n",
      "323/323 [==============================] - 0s 44us/sample - loss: 90.9823\n",
      "Epoch 34/100\n",
      "323/323 [==============================] - 0s 42us/sample - loss: 91.1019\n",
      "Epoch 35/100\n",
      "323/323 [==============================] - 0s 42us/sample - loss: 90.9450\n",
      "Epoch 36/100\n",
      "323/323 [==============================] - 0s 44us/sample - loss: 90.9584\n",
      "Epoch 37/100\n",
      "323/323 [==============================] - 0s 44us/sample - loss: 90.9506\n",
      "Epoch 38/100\n",
      "323/323 [==============================] - 0s 42us/sample - loss: 90.9083\n",
      "Epoch 39/100\n",
      "323/323 [==============================] - 0s 44us/sample - loss: 91.0654\n",
      "Epoch 40/100\n",
      "323/323 [==============================] - 0s 44us/sample - loss: 91.0270\n",
      "Epoch 41/100\n",
      "323/323 [==============================] - 0s 43us/sample - loss: 91.0374\n",
      "Epoch 42/100\n",
      "323/323 [==============================] - 0s 43us/sample - loss: 91.0251\n",
      "Epoch 43/100\n",
      "323/323 [==============================] - 0s 44us/sample - loss: 90.9016\n",
      "Epoch 44/100\n",
      "323/323 [==============================] - 0s 42us/sample - loss: 90.9567\n",
      "Epoch 45/100\n",
      "323/323 [==============================] - 0s 40us/sample - loss: 90.8898\n",
      "Epoch 46/100\n",
      "323/323 [==============================] - 0s 46us/sample - loss: 90.8758\n",
      "Epoch 47/100\n",
      "323/323 [==============================] - 0s 43us/sample - loss: 91.1318\n",
      "Epoch 48/100\n",
      "323/323 [==============================] - 0s 44us/sample - loss: 90.9979\n",
      "Epoch 49/100\n",
      "323/323 [==============================] - 0s 44us/sample - loss: 90.9767\n",
      "Epoch 50/100\n",
      "323/323 [==============================] - 0s 45us/sample - loss: 91.0335\n",
      "Epoch 51/100\n",
      "323/323 [==============================] - 0s 44us/sample - loss: 91.0930\n",
      "Epoch 52/100\n",
      "323/323 [==============================] - 0s 45us/sample - loss: 90.8934\n",
      "Epoch 53/100\n",
      "323/323 [==============================] - 0s 43us/sample - loss: 91.0619\n",
      "Epoch 54/100\n",
      "323/323 [==============================] - 0s 42us/sample - loss: 90.8928\n",
      "Epoch 55/100\n",
      "323/323 [==============================] - 0s 55us/sample - loss: 90.9104\n",
      "Epoch 56/100\n",
      "323/323 [==============================] - 0s 47us/sample - loss: 91.0430\n",
      "Epoch 57/100\n",
      "323/323 [==============================] - 0s 59us/sample - loss: 90.9069\n",
      "Epoch 58/100\n",
      "323/323 [==============================] - 0s 41us/sample - loss: 90.9546\n",
      "Epoch 59/100\n",
      "323/323 [==============================] - 0s 41us/sample - loss: 91.0392\n",
      "Epoch 60/100\n",
      "323/323 [==============================] - 0s 45us/sample - loss: 91.0566\n",
      "Epoch 61/100\n",
      "323/323 [==============================] - 0s 45us/sample - loss: 90.9273\n",
      "Epoch 62/100\n",
      "323/323 [==============================] - 0s 44us/sample - loss: 90.9120\n",
      "Epoch 63/100\n",
      "323/323 [==============================] - 0s 41us/sample - loss: 91.1432\n",
      "Epoch 64/100\n",
      "323/323 [==============================] - 0s 44us/sample - loss: 90.9020\n",
      "Epoch 65/100\n",
      "323/323 [==============================] - 0s 45us/sample - loss: 90.9426\n",
      "Epoch 66/100\n",
      "323/323 [==============================] - 0s 42us/sample - loss: 90.9679\n",
      "Epoch 67/100\n",
      "323/323 [==============================] - 0s 45us/sample - loss: 91.0428\n",
      "Epoch 68/100\n",
      "323/323 [==============================] - 0s 40us/sample - loss: 91.0305\n",
      "Epoch 69/100\n",
      "323/323 [==============================] - 0s 45us/sample - loss: 90.9463\n",
      "Epoch 70/100\n",
      "323/323 [==============================] - 0s 44us/sample - loss: 91.0044\n",
      "Epoch 71/100\n",
      "323/323 [==============================] - 0s 44us/sample - loss: 90.9508\n",
      "Epoch 72/100\n",
      "323/323 [==============================] - 0s 43us/sample - loss: 91.0512\n",
      "Epoch 73/100\n",
      "323/323 [==============================] - 0s 43us/sample - loss: 90.8971\n",
      "Epoch 74/100\n",
      "323/323 [==============================] - 0s 50us/sample - loss: 90.9268\n",
      "Epoch 75/100\n",
      "323/323 [==============================] - 0s 46us/sample - loss: 90.9228\n",
      "Epoch 76/100\n",
      "323/323 [==============================] - 0s 46us/sample - loss: 90.8954\n",
      "Epoch 77/100\n",
      "323/323 [==============================] - 0s 45us/sample - loss: 90.9290\n",
      "Epoch 78/100\n",
      "323/323 [==============================] - 0s 48us/sample - loss: 91.0799\n",
      "Epoch 79/100\n",
      "323/323 [==============================] - 0s 45us/sample - loss: 90.8961\n",
      "Epoch 80/100\n",
      "323/323 [==============================] - 0s 46us/sample - loss: 91.0972\n",
      "Epoch 81/100\n",
      "323/323 [==============================] - 0s 53us/sample - loss: 90.9088\n",
      "Epoch 82/100\n",
      "323/323 [==============================] - 0s 47us/sample - loss: 90.9462\n",
      "Epoch 83/100\n",
      "323/323 [==============================] - 0s 46us/sample - loss: 90.9312\n",
      "Epoch 84/100\n",
      "323/323 [==============================] - 0s 44us/sample - loss: 90.9983\n",
      "Epoch 85/100\n",
      "323/323 [==============================] - 0s 43us/sample - loss: 91.0539\n",
      "Epoch 86/100\n",
      "323/323 [==============================] - 0s 43us/sample - loss: 90.9206\n",
      "Epoch 87/100\n",
      "323/323 [==============================] - 0s 42us/sample - loss: 91.0098\n",
      "Epoch 88/100\n",
      "323/323 [==============================] - 0s 44us/sample - loss: 90.9973\n",
      "Epoch 89/100\n",
      "323/323 [==============================] - 0s 48us/sample - loss: 90.9351\n",
      "Epoch 90/100\n",
      "323/323 [==============================] - 0s 44us/sample - loss: 90.8768\n",
      "Epoch 91/100\n",
      "323/323 [==============================] - 0s 45us/sample - loss: 91.0795\n",
      "Epoch 92/100\n",
      "323/323 [==============================] - 0s 45us/sample - loss: 90.9424\n",
      "Epoch 93/100\n",
      "323/323 [==============================] - 0s 49us/sample - loss: 91.0652\n",
      "Epoch 94/100\n",
      "323/323 [==============================] - 0s 45us/sample - loss: 90.9541\n",
      "Epoch 95/100\n",
      "323/323 [==============================] - 0s 49us/sample - loss: 90.8856\n",
      "Epoch 96/100\n",
      "323/323 [==============================] - 0s 47us/sample - loss: 90.9977\n",
      "Epoch 97/100\n",
      "323/323 [==============================] - 0s 44us/sample - loss: 90.9173\n",
      "Epoch 98/100\n",
      "323/323 [==============================] - 0s 47us/sample - loss: 91.0772\n",
      "Epoch 99/100\n",
      "323/323 [==============================] - 0s 42us/sample - loss: 91.0006\n",
      "Epoch 100/100\n",
      "323/323 [==============================] - 0s 55us/sample - loss: 90.9921\n",
      "81/81 [==============================] - 0s 593us/sample - loss: 71.1015\n"
     ]
    },
    {
     "data": {
      "text/plain": [
       "71.10153419588819"
      ]
     },
     "execution_count": 30,
     "metadata": {},
     "output_type": "execute_result"
    }
   ],
   "source": [
    "# Play with epochs\n",
    "learning_rate = 0.1         \n",
    "epochs = 100             # Replace ? with an integer\n",
    "optimizer = RMSprop(learning_rate)\n",
    "model.compile(loss='mean_squared_error',optimizer=optimizer)    # Compile the model\n",
    "history = model.fit(X_train, y_train, epochs=epochs, batch_size=30)       # Fit the model\n",
    "model.evaluate(X_test, y_test)                                  # Evaluate the model"
   ]
  },
  {
   "cell_type": "code",
   "execution_count": 31,
   "metadata": {},
   "outputs": [
    {
     "data": {
      "image/png": "[encoded data removed]",
      "text/plain": [
       "<Figure size 432x288 with 1 Axes>"
      ]
     },
     "metadata": {
      "needs_background": "light"
     },
     "output_type": "display_data"
    }
   ],
   "source": [
    "plot_the_loss_curve(history.epoch, history.history['loss'])"
   ]
  },
  {
   "cell_type": "markdown",
   "metadata": {
    "colab_type": "text",
    "id": "K6cx5vbtqdeD"
   },
   "source": [
    "### Exercise 3\n",
    "\n",
    "Find the best possible combination of *learning rate* and *epochs* while testing some combinations"
   ]
  },
  {
   "cell_type": "code",
   "execution_count": 32,
   "metadata": {
    "colab": {},
    "colab_type": "code",
    "collapsed": true,
    "id": "n8RUGIklqxKS",
    "jupyter": {
     "outputs_hidden": true
    }
   },
   "outputs": [
    {
     "name": "stdout",
     "output_type": "stream",
     "text": [
      "Train on 323 samples\n",
      "Epoch 1/200\n",
      "323/323 [==============================] - 0s 1ms/sample - loss: 91.0048\n",
      "Epoch 2/200\n",
      "323/323 [==============================] - 0s 46us/sample - loss: 90.9726\n",
      "Epoch 3/200\n",
      "323/323 [==============================] - 0s 44us/sample - loss: 90.9788\n",
      "Epoch 4/200\n",
      "323/323 [==============================] - 0s 45us/sample - loss: 91.0713\n",
      "Epoch 5/200\n",
      "323/323 [==============================] - 0s 45us/sample - loss: 90.8662\n",
      "Epoch 6/200\n",
      "323/323 [==============================] - 0s 42us/sample - loss: 90.8548\n",
      "Epoch 7/200\n",
      "323/323 [==============================] - 0s 46us/sample - loss: 91.0140\n",
      "Epoch 8/200\n",
      "323/323 [==============================] - 0s 42us/sample - loss: 91.0098\n",
      "Epoch 9/200\n",
      "323/323 [==============================] - 0s 46us/sample - loss: 91.0072\n",
      "Epoch 10/200\n",
      "323/323 [==============================] - 0s 41us/sample - loss: 91.0298\n",
      "Epoch 11/200\n",
      "323/323 [==============================] - 0s 45us/sample - loss: 91.0009\n",
      "Epoch 12/200\n",
      "323/323 [==============================] - 0s 42us/sample - loss: 90.8546\n",
      "Epoch 13/200\n",
      "323/323 [==============================] - 0s 43us/sample - loss: 90.9740\n",
      "Epoch 14/200\n",
      "323/323 [==============================] - 0s 51us/sample - loss: 91.0095\n",
      "Epoch 15/200\n",
      "323/323 [==============================] - 0s 43us/sample - loss: 90.9693\n",
      "Epoch 16/200\n",
      "323/323 [==============================] - 0s 44us/sample - loss: 90.9685\n",
      "Epoch 17/200\n",
      "323/323 [==============================] - 0s 49us/sample - loss: 91.0063\n",
      "Epoch 18/200\n",
      "323/323 [==============================] - 0s 49us/sample - loss: 91.0482\n",
      "Epoch 19/200\n",
      "323/323 [==============================] - 0s 47us/sample - loss: 90.9558\n",
      "Epoch 20/200\n",
      "323/323 [==============================] - 0s 42us/sample - loss: 91.0560\n",
      "Epoch 21/200\n",
      "323/323 [==============================] - 0s 40us/sample - loss: 91.0178\n",
      "Epoch 22/200\n",
      "323/323 [==============================] - 0s 48us/sample - loss: 90.8701\n",
      "Epoch 23/200\n",
      "323/323 [==============================] - 0s 40us/sample - loss: 90.9232\n",
      "Epoch 24/200\n",
      "323/323 [==============================] - 0s 45us/sample - loss: 90.9840\n",
      "Epoch 25/200\n",
      "323/323 [==============================] - 0s 43us/sample - loss: 90.9959\n",
      "Epoch 26/200\n",
      "323/323 [==============================] - 0s 43us/sample - loss: 90.9757\n",
      "Epoch 27/200\n",
      "323/323 [==============================] - 0s 44us/sample - loss: 91.0143\n",
      "Epoch 28/200\n",
      "323/323 [==============================] - 0s 45us/sample - loss: 91.0118\n",
      "Epoch 29/200\n",
      "323/323 [==============================] - 0s 47us/sample - loss: 91.0158\n",
      "Epoch 30/200\n",
      "323/323 [==============================] - 0s 39us/sample - loss: 90.9618\n",
      "Epoch 31/200\n",
      "323/323 [==============================] - 0s 49us/sample - loss: 91.0186\n",
      "Epoch 32/200\n",
      "323/323 [==============================] - 0s 41us/sample - loss: 90.9156\n",
      "Epoch 33/200\n",
      "323/323 [==============================] - 0s 44us/sample - loss: 90.9819\n",
      "Epoch 34/200\n",
      "323/323 [==============================] - 0s 46us/sample - loss: 91.1016\n",
      "Epoch 35/200\n",
      "323/323 [==============================] - 0s 46us/sample - loss: 90.9449\n",
      "Epoch 36/200\n",
      "323/323 [==============================] - 0s 47us/sample - loss: 90.9583\n",
      "Epoch 37/200\n",
      "323/323 [==============================] - 0s 45us/sample - loss: 90.9506\n",
      "Epoch 38/200\n",
      "323/323 [==============================] - 0s 42us/sample - loss: 90.9083\n",
      "Epoch 39/200\n",
      "323/323 [==============================] - 0s 45us/sample - loss: 91.0654\n",
      "Epoch 40/200\n",
      "323/323 [==============================] - 0s 44us/sample - loss: 91.0270\n",
      "Epoch 41/200\n",
      "323/323 [==============================] - 0s 44us/sample - loss: 91.0374\n",
      "Epoch 42/200\n",
      "323/323 [==============================] - 0s 42us/sample - loss: 91.0251\n",
      "Epoch 43/200\n",
      "323/323 [==============================] - 0s 48us/sample - loss: 90.9016\n",
      "Epoch 44/200\n",
      "323/323 [==============================] - 0s 43us/sample - loss: 90.9567\n",
      "Epoch 45/200\n",
      "323/323 [==============================] - 0s 68us/sample - loss: 90.8898\n",
      "Epoch 46/200\n",
      "323/323 [==============================] - 0s 44us/sample - loss: 90.8758\n",
      "Epoch 47/200\n",
      "323/323 [==============================] - 0s 39us/sample - loss: 91.1318\n",
      "Epoch 48/200\n",
      "323/323 [==============================] - 0s 42us/sample - loss: 90.9979\n",
      "Epoch 49/200\n",
      "323/323 [==============================] - 0s 40us/sample - loss: 90.9767\n",
      "Epoch 50/200\n",
      "323/323 [==============================] - 0s 41us/sample - loss: 91.0335\n",
      "Epoch 51/200\n",
      "323/323 [==============================] - 0s 43us/sample - loss: 91.0930\n",
      "Epoch 52/200\n",
      "323/323 [==============================] - 0s 43us/sample - loss: 90.8934\n",
      "Epoch 53/200\n",
      "323/323 [==============================] - 0s 44us/sample - loss: 91.0619\n",
      "Epoch 54/200\n",
      "323/323 [==============================] - 0s 45us/sample - loss: 90.8928\n",
      "Epoch 55/200\n",
      "323/323 [==============================] - 0s 46us/sample - loss: 90.9104\n",
      "Epoch 56/200\n",
      "323/323 [==============================] - 0s 43us/sample - loss: 91.0430\n",
      "Epoch 57/200\n",
      "323/323 [==============================] - 0s 46us/sample - loss: 90.9069\n",
      "Epoch 58/200\n",
      "323/323 [==============================] - 0s 42us/sample - loss: 90.9546\n",
      "Epoch 59/200\n",
      "323/323 [==============================] - 0s 43us/sample - loss: 91.0392\n",
      "Epoch 60/200\n",
      "323/323 [==============================] - 0s 40us/sample - loss: 91.0566\n",
      "Epoch 61/200\n",
      "323/323 [==============================] - 0s 42us/sample - loss: 90.9273\n",
      "Epoch 62/200\n",
      "323/323 [==============================] - 0s 46us/sample - loss: 90.9120\n",
      "Epoch 63/200\n",
      "323/323 [==============================] - 0s 42us/sample - loss: 91.1432\n",
      "Epoch 64/200\n",
      "323/323 [==============================] - 0s 43us/sample - loss: 90.9020\n",
      "Epoch 65/200\n",
      "323/323 [==============================] - 0s 41us/sample - loss: 90.9426\n",
      "Epoch 66/200\n",
      "323/323 [==============================] - 0s 42us/sample - loss: 90.9679\n",
      "Epoch 67/200\n",
      "323/323 [==============================] - 0s 42us/sample - loss: 91.0428\n",
      "Epoch 68/200\n",
      "323/323 [==============================] - 0s 42us/sample - loss: 91.0305\n",
      "Epoch 69/200\n",
      "323/323 [==============================] - 0s 44us/sample - loss: 90.9463\n",
      "Epoch 70/200\n",
      "323/323 [==============================] - 0s 43us/sample - loss: 91.0044\n",
      "Epoch 71/200\n",
      "323/323 [==============================] - 0s 46us/sample - loss: 90.9508\n",
      "Epoch 72/200\n",
      "323/323 [==============================] - 0s 43us/sample - loss: 91.0512\n",
      "Epoch 73/200\n",
      "323/323 [==============================] - 0s 43us/sample - loss: 90.8971\n",
      "Epoch 74/200\n",
      "323/323 [==============================] - 0s 44us/sample - loss: 90.9268\n",
      "Epoch 75/200\n",
      "323/323 [==============================] - 0s 46us/sample - loss: 90.9228\n",
      "Epoch 76/200\n",
      "323/323 [==============================] - 0s 42us/sample - loss: 90.8954\n",
      "Epoch 77/200\n",
      "323/323 [==============================] - 0s 40us/sample - loss: 90.9290\n",
      "Epoch 78/200\n",
      "323/323 [==============================] - 0s 48us/sample - loss: 91.0799\n",
      "Epoch 79/200\n",
      "323/323 [==============================] - 0s 46us/sample - loss: 90.8961\n",
      "Epoch 80/200\n",
      "323/323 [==============================] - 0s 46us/sample - loss: 91.0972\n",
      "Epoch 81/200\n",
      "323/323 [==============================] - 0s 45us/sample - loss: 90.9088\n",
      "Epoch 82/200\n",
      "323/323 [==============================] - 0s 44us/sample - loss: 90.9462\n",
      "Epoch 83/200\n",
      "323/323 [==============================] - 0s 46us/sample - loss: 90.9312\n",
      "Epoch 84/200\n",
      "323/323 [==============================] - 0s 42us/sample - loss: 90.9983\n",
      "Epoch 85/200\n",
      "323/323 [==============================] - 0s 43us/sample - loss: 91.0539\n",
      "Epoch 86/200\n",
      "323/323 [==============================] - 0s 41us/sample - loss: 90.9206\n",
      "Epoch 87/200\n",
      "323/323 [==============================] - 0s 41us/sample - loss: 91.0098\n",
      "Epoch 88/200\n",
      "323/323 [==============================] - 0s 44us/sample - loss: 90.9973\n",
      "Epoch 89/200\n",
      "323/323 [==============================] - 0s 45us/sample - loss: 90.9351\n",
      "Epoch 90/200\n",
      "323/323 [==============================] - 0s 46us/sample - loss: 90.8768\n",
      "Epoch 91/200\n",
      "323/323 [==============================] - 0s 42us/sample - loss: 91.0795\n",
      "Epoch 92/200\n",
      "323/323 [==============================] - 0s 43us/sample - loss: 90.9424\n",
      "Epoch 93/200\n",
      "323/323 [==============================] - 0s 41us/sample - loss: 91.0652\n",
      "Epoch 94/200\n",
      "323/323 [==============================] - 0s 43us/sample - loss: 90.9541\n",
      "Epoch 95/200\n",
      "323/323 [==============================] - 0s 42us/sample - loss: 90.8856\n",
      "Epoch 96/200\n",
      "323/323 [==============================] - 0s 47us/sample - loss: 90.9977\n",
      "Epoch 97/200\n",
      "323/323 [==============================] - 0s 43us/sample - loss: 90.9173\n",
      "Epoch 98/200\n",
      "323/323 [==============================] - 0s 43us/sample - loss: 91.0772\n",
      "Epoch 99/200\n",
      "323/323 [==============================] - 0s 41us/sample - loss: 91.0006\n",
      "Epoch 100/200\n",
      "323/323 [==============================] - 0s 43us/sample - loss: 90.9921\n",
      "Epoch 101/200\n",
      "323/323 [==============================] - 0s 40us/sample - loss: 90.8962\n",
      "Epoch 102/200\n",
      "323/323 [==============================] - 0s 43us/sample - loss: 91.0031\n",
      "Epoch 103/200\n",
      "323/323 [==============================] - 0s 42us/sample - loss: 91.0353\n",
      "Epoch 104/200\n",
      "323/323 [==============================] - 0s 40us/sample - loss: 90.9812\n",
      "Epoch 105/200\n",
      "323/323 [==============================] - 0s 44us/sample - loss: 90.8917\n",
      "Epoch 106/200\n",
      "323/323 [==============================] - 0s 41us/sample - loss: 91.0191\n",
      "Epoch 107/200\n",
      "323/323 [==============================] - 0s 45us/sample - loss: 91.0755\n",
      "Epoch 108/200\n",
      "323/323 [==============================] - 0s 41us/sample - loss: 90.8731\n",
      "Epoch 109/200\n",
      "323/323 [==============================] - 0s 45us/sample - loss: 90.9451\n",
      "Epoch 110/200\n",
      "323/323 [==============================] - 0s 41us/sample - loss: 91.1355\n",
      "Epoch 111/200\n",
      "323/323 [==============================] - 0s 46us/sample - loss: 91.0065\n",
      "Epoch 112/200\n",
      "323/323 [==============================] - 0s 44us/sample - loss: 90.9652\n",
      "Epoch 113/200\n",
      "323/323 [==============================] - 0s 45us/sample - loss: 90.9982\n",
      "Epoch 114/200\n",
      "323/323 [==============================] - 0s 41us/sample - loss: 90.9313\n",
      "Epoch 115/200\n",
      "323/323 [==============================] - 0s 45us/sample - loss: 90.9931\n",
      "Epoch 116/200\n",
      "323/323 [==============================] - 0s 44us/sample - loss: 90.9504\n",
      "Epoch 117/200\n",
      "323/323 [==============================] - 0s 45us/sample - loss: 90.9955\n",
      "Epoch 118/200\n",
      "323/323 [==============================] - 0s 42us/sample - loss: 90.9618\n",
      "Epoch 119/200\n",
      "323/323 [==============================] - 0s 45us/sample - loss: 90.8971\n",
      "Epoch 120/200\n",
      "323/323 [==============================] - 0s 43us/sample - loss: 90.9612\n",
      "Epoch 121/200\n",
      "323/323 [==============================] - 0s 43us/sample - loss: 91.0730\n",
      "Epoch 122/200\n",
      "323/323 [==============================] - 0s 43us/sample - loss: 90.9472\n",
      "Epoch 123/200\n",
      "323/323 [==============================] - 0s 45us/sample - loss: 90.9765\n",
      "Epoch 124/200\n",
      "323/323 [==============================] - 0s 42us/sample - loss: 90.9906\n",
      "Epoch 125/200\n",
      "323/323 [==============================] - 0s 46us/sample - loss: 90.9024\n",
      "Epoch 126/200\n",
      "323/323 [==============================] - 0s 42us/sample - loss: 90.9927\n",
      "Epoch 127/200\n",
      "323/323 [==============================] - 0s 45us/sample - loss: 90.8597\n",
      "Epoch 128/200\n",
      "323/323 [==============================] - 0s 41us/sample - loss: 90.9139\n",
      "Epoch 129/200\n",
      "323/323 [==============================] - 0s 43us/sample - loss: 91.0680\n",
      "Epoch 130/200\n",
      "323/323 [==============================] - 0s 41us/sample - loss: 90.9354\n",
      "Epoch 131/200\n",
      "323/323 [==============================] - 0s 44us/sample - loss: 90.9667\n",
      "Epoch 132/200\n",
      "323/323 [==============================] - 0s 42us/sample - loss: 91.0796\n",
      "Epoch 133/200\n",
      "323/323 [==============================] - 0s 43us/sample - loss: 91.0187\n",
      "Epoch 134/200\n",
      "323/323 [==============================] - 0s 42us/sample - loss: 90.9762\n",
      "Epoch 135/200\n",
      "323/323 [==============================] - 0s 44us/sample - loss: 90.9976\n",
      "Epoch 136/200\n",
      "323/323 [==============================] - 0s 42us/sample - loss: 90.8982\n",
      "Epoch 137/200\n",
      "323/323 [==============================] - 0s 46us/sample - loss: 90.8569\n",
      "Epoch 138/200\n",
      "323/323 [==============================] - 0s 42us/sample - loss: 91.0405\n",
      "Epoch 139/200\n",
      "323/323 [==============================] - 0s 44us/sample - loss: 91.0070\n",
      "Epoch 140/200\n",
      "323/323 [==============================] - 0s 40us/sample - loss: 90.9305\n",
      "Epoch 141/200\n",
      "323/323 [==============================] - 0s 43us/sample - loss: 91.0827\n",
      "Epoch 142/200\n",
      "323/323 [==============================] - 0s 43us/sample - loss: 91.1402\n",
      "Epoch 143/200\n",
      "323/323 [==============================] - 0s 42us/sample - loss: 90.9068\n",
      "Epoch 144/200\n",
      "323/323 [==============================] - 0s 45us/sample - loss: 90.9959\n",
      "Epoch 145/200\n",
      "323/323 [==============================] - 0s 44us/sample - loss: 90.9411\n",
      "Epoch 146/200\n",
      "323/323 [==============================] - 0s 42us/sample - loss: 91.0492\n",
      "Epoch 147/200\n",
      "323/323 [==============================] - 0s 44us/sample - loss: 90.9926\n",
      "Epoch 148/200\n",
      "323/323 [==============================] - 0s 44us/sample - loss: 90.9988\n",
      "Epoch 149/200\n",
      "323/323 [==============================] - 0s 42us/sample - loss: 90.9906\n",
      "Epoch 150/200\n",
      "323/323 [==============================] - 0s 43us/sample - loss: 90.9750\n",
      "Epoch 151/200\n",
      "323/323 [==============================] - 0s 44us/sample - loss: 90.9179\n",
      "Epoch 152/200\n",
      "323/323 [==============================] - 0s 43us/sample - loss: 91.0259\n",
      "Epoch 153/200\n",
      "323/323 [==============================] - 0s 43us/sample - loss: 90.9388\n",
      "Epoch 154/200\n",
      "323/323 [==============================] - 0s 46us/sample - loss: 91.0147\n",
      "Epoch 155/200\n",
      "323/323 [==============================] - 0s 40us/sample - loss: 90.9897\n",
      "Epoch 156/200\n",
      "323/323 [==============================] - 0s 47us/sample - loss: 91.0471\n",
      "Epoch 157/200\n",
      "323/323 [==============================] - 0s 41us/sample - loss: 90.9125\n",
      "Epoch 158/200\n",
      "323/323 [==============================] - 0s 43us/sample - loss: 90.9098\n",
      "Epoch 159/200\n",
      "323/323 [==============================] - 0s 41us/sample - loss: 90.9805\n",
      "Epoch 160/200\n",
      "323/323 [==============================] - 0s 45us/sample - loss: 90.9351\n",
      "Epoch 161/200\n",
      "323/323 [==============================] - 0s 41us/sample - loss: 90.9352\n",
      "Epoch 162/200\n",
      "323/323 [==============================] - 0s 44us/sample - loss: 90.9422\n",
      "Epoch 163/200\n",
      "323/323 [==============================] - 0s 40us/sample - loss: 90.9675\n",
      "Epoch 164/200\n",
      "323/323 [==============================] - 0s 43us/sample - loss: 90.9366\n",
      "Epoch 165/200\n",
      "323/323 [==============================] - 0s 43us/sample - loss: 90.9621\n",
      "Epoch 166/200\n",
      "323/323 [==============================] - 0s 42us/sample - loss: 90.9383\n",
      "Epoch 167/200\n",
      "323/323 [==============================] - 0s 45us/sample - loss: 90.9140\n",
      "Epoch 168/200\n",
      "323/323 [==============================] - 0s 45us/sample - loss: 91.0154\n",
      "Epoch 169/200\n",
      "323/323 [==============================] - 0s 46us/sample - loss: 90.9953\n",
      "Epoch 170/200\n",
      "323/323 [==============================] - 0s 42us/sample - loss: 91.0361\n",
      "Epoch 171/200\n",
      "323/323 [==============================] - 0s 44us/sample - loss: 90.8944\n",
      "Epoch 172/200\n",
      "323/323 [==============================] - 0s 41us/sample - loss: 90.9745\n",
      "Epoch 173/200\n",
      "323/323 [==============================] - 0s 53us/sample - loss: 91.0999\n",
      "Epoch 174/200\n",
      "323/323 [==============================] - 0s 42us/sample - loss: 90.9165\n",
      "Epoch 175/200\n",
      "323/323 [==============================] - 0s 40us/sample - loss: 90.9682\n",
      "Epoch 176/200\n",
      "323/323 [==============================] - 0s 45us/sample - loss: 90.9068\n",
      "Epoch 177/200\n",
      "323/323 [==============================] - 0s 39us/sample - loss: 90.9880\n",
      "Epoch 178/200\n",
      "323/323 [==============================] - 0s 45us/sample - loss: 90.9408\n",
      "Epoch 179/200\n",
      "323/323 [==============================] - 0s 44us/sample - loss: 91.0208\n",
      "Epoch 180/200\n",
      "323/323 [==============================] - 0s 46us/sample - loss: 91.0076\n",
      "Epoch 181/200\n",
      "323/323 [==============================] - 0s 42us/sample - loss: 90.9029\n",
      "Epoch 182/200\n",
      "323/323 [==============================] - 0s 44us/sample - loss: 90.9786\n",
      "Epoch 183/200\n",
      "323/323 [==============================] - 0s 41us/sample - loss: 90.9245\n",
      "Epoch 184/200\n",
      "323/323 [==============================] - 0s 45us/sample - loss: 91.0078\n",
      "Epoch 185/200\n",
      "323/323 [==============================] - 0s 42us/sample - loss: 90.9055\n",
      "Epoch 186/200\n",
      "323/323 [==============================] - 0s 41us/sample - loss: 91.0828\n",
      "Epoch 187/200\n",
      "323/323 [==============================] - 0s 45us/sample - loss: 90.9397\n",
      "Epoch 188/200\n",
      "323/323 [==============================] - 0s 43us/sample - loss: 90.9672\n",
      "Epoch 189/200\n",
      "323/323 [==============================] - 0s 44us/sample - loss: 91.0326\n",
      "Epoch 190/200\n",
      "323/323 [==============================] - 0s 40us/sample - loss: 90.9797\n",
      "Epoch 191/200\n",
      "323/323 [==============================] - 0s 42us/sample - loss: 90.9740\n",
      "Epoch 192/200\n",
      "323/323 [==============================] - 0s 45us/sample - loss: 90.9044\n",
      "Epoch 193/200\n",
      "323/323 [==============================] - 0s 40us/sample - loss: 91.0329\n",
      "Epoch 194/200\n",
      "323/323 [==============================] - 0s 45us/sample - loss: 90.9690\n",
      "Epoch 195/200\n",
      "323/323 [==============================] - 0s 40us/sample - loss: 90.9936\n",
      "Epoch 196/200\n",
      "323/323 [==============================] - 0s 43us/sample - loss: 90.9523\n",
      "Epoch 197/200\n",
      "323/323 [==============================] - 0s 42us/sample - loss: 90.9760\n",
      "Epoch 198/200\n",
      "323/323 [==============================] - 0s 43us/sample - loss: 91.0334\n",
      "Epoch 199/200\n",
      "323/323 [==============================] - 0s 44us/sample - loss: 90.9047\n",
      "Epoch 200/200\n",
      "323/323 [==============================] - 0s 42us/sample - loss: 90.9451\n",
      "81/81 [==============================] - 0s 646us/sample - loss: 71.1000\n"
     ]
    },
    {
     "data": {
      "text/plain": [
       "71.09995378093954"
      ]
     },
     "execution_count": 32,
     "metadata": {},
     "output_type": "execute_result"
    }
   ],
   "source": [
    "# play with learning rate and epochs\n",
    "learning_rate = 0.1        # Replace ? with a floating-point number\n",
    "epochs = 200             # Replace ? with an integer\n",
    "optimizer = RMSprop(learning_rate)\n",
    "model.compile(loss='mean_squared_error',optimizer=optimizer)    # Compile the model\n",
    "history = model.fit(X_train, y_train, epochs=epochs, batch_size=30)       # Fit the model\n",
    "model.evaluate(X_test, y_test)                                  # Evaluate the model"
   ]
  },
  {
   "cell_type": "code",
   "execution_count": 33,
   "metadata": {},
   "outputs": [
    {
     "data": {
      "image/png": "[encoded data removed]",
      "text/plain": [
       "<Figure size 432x288 with 1 Axes>"
      ]
     },
     "metadata": {
      "needs_background": "light"
     },
     "output_type": "display_data"
    }
   ],
   "source": [
    "plot_the_loss_curve(history.epoch, history.history['loss'])"
   ]
  },
  {
   "cell_type": "markdown",
   "metadata": {
    "colab_type": "text",
    "id": "kcn3gB3Uq7u6"
   },
   "source": [
    "**Batch Size**\n",
    "\n",
    "The number of examples in a batch."
   ]
  },
  {
   "cell_type": "code",
   "execution_count": 34,
   "metadata": {
    "colab": {
     "base_uri": "https://localhost:8080/",
     "height": 428
    },
    "colab_type": "code",
    "id": "DTSP63PTZ8hv",
    "outputId": "d0a90bd0-9e34-49e4-b351-fa035ae6df22"
   },
   "outputs": [
    {
     "name": "stdout",
     "output_type": "stream",
     "text": [
      "Train on 323 samples\n",
      "Epoch 1/10\n",
      "323/323 [==============================] - 0s 1ms/sample - loss: 295.7401\n",
      "Epoch 2/10\n",
      "323/323 [==============================] - 0s 38us/sample - loss: 110.5806\n",
      "Epoch 3/10\n",
      "323/323 [==============================] - 0s 37us/sample - loss: 108.5253\n",
      "Epoch 4/10\n",
      "323/323 [==============================] - 0s 39us/sample - loss: 106.6067\n",
      "Epoch 5/10\n",
      "323/323 [==============================] - 0s 50us/sample - loss: 87.7566\n",
      "Epoch 6/10\n",
      "323/323 [==============================] - 0s 37us/sample - loss: 113.7894\n",
      "Epoch 7/10\n",
      "323/323 [==============================] - 0s 37us/sample - loss: 85.4327\n",
      "Epoch 8/10\n",
      "323/323 [==============================] - 0s 41us/sample - loss: 85.2161\n",
      "Epoch 9/10\n",
      "323/323 [==============================] - 0s 36us/sample - loss: 89.5082\n",
      "Epoch 10/10\n",
      "323/323 [==============================] - 0s 34us/sample - loss: 104.7811\n",
      "81/81 [==============================] - 0s 626us/sample - loss: 111.9399\n",
      "The MSE value is:  111.93991427951389\n"
     ]
    }
   ],
   "source": [
    "####################### Complete example to check the performance of the model with different batch size while keeping epochs as 30 and learning rate as 0.01 #######################################\n",
    "# define the model\n",
    "model = Sequential()\n",
    "model.add(Dense(10, activation='relu', input_shape=(n_features,)))\n",
    "model.add(Dense(8, activation='relu'))\n",
    "model.add(Dense(1))\n",
    "\n",
    "optimizer = RMSprop(0.01)    # 0.1 is the learning rate\n",
    "model.compile(loss='mean_squared_error',optimizer=optimizer)    # Compile the model\n",
    "\n",
    "# fit the model \n",
    "model.fit(X_train, y_train, epochs=10, batch_size=40, verbose = 1)\n",
    "\n",
    "# evaluate the model\n",
    "print('The MSE value is: ', model.evaluate(X_test, y_test))"
   ]
  },
  {
   "cell_type": "markdown",
   "metadata": {
    "colab_type": "text",
    "id": "r7xoMXoVaJy5"
   },
   "source": [
    "You can see above the cost(loss) value i.e. MSE for batch size 40 while keeping epochs as 10 and learning rate as 0.01"
   ]
  },
  {
   "cell_type": "markdown",
   "metadata": {
    "colab_type": "text",
    "id": "y9VcjhruiIxd"
   },
   "source": [
    "### Exercise 4\n",
    "\n",
    "Test several batch size values to see the impact of varying this value when defining your model."
   ]
  },
  {
   "cell_type": "code",
   "execution_count": 35,
   "metadata": {
    "colab": {},
    "colab_type": "code",
    "id": "WKik9O5grNa1"
   },
   "outputs": [
    {
     "name": "stdout",
     "output_type": "stream",
     "text": [
      "Train on 323 samples\n",
      "Epoch 1/15\n",
      "323/323 [==============================] - 0s 1ms/sample - loss: 94.3939\n",
      "Epoch 2/15\n",
      "323/323 [==============================] - 0s 249us/sample - loss: 74.0610\n",
      "Epoch 3/15\n",
      "323/323 [==============================] - 0s 269us/sample - loss: 69.7922\n",
      "Epoch 4/15\n",
      "323/323 [==============================] - 0s 230us/sample - loss: 63.4705\n",
      "Epoch 5/15\n",
      "323/323 [==============================] - 0s 241us/sample - loss: 63.5209\n",
      "Epoch 6/15\n",
      "323/323 [==============================] - 0s 232us/sample - loss: 63.8765\n",
      "Epoch 7/15\n",
      "323/323 [==============================] - 0s 232us/sample - loss: 56.7328\n",
      "Epoch 8/15\n",
      "323/323 [==============================] - 0s 226us/sample - loss: 56.3436\n",
      "Epoch 9/15\n",
      "323/323 [==============================] - 0s 252us/sample - loss: 51.8511\n",
      "Epoch 10/15\n",
      "323/323 [==============================] - 0s 234us/sample - loss: 51.8350\n",
      "Epoch 11/15\n",
      "323/323 [==============================] - 0s 243us/sample - loss: 52.6305\n",
      "Epoch 12/15\n",
      "323/323 [==============================] - 0s 233us/sample - loss: 50.5269\n",
      "Epoch 13/15\n",
      "323/323 [==============================] - 0s 237us/sample - loss: 49.2241\n",
      "Epoch 14/15\n",
      "323/323 [==============================] - 0s 227us/sample - loss: 48.7887\n",
      "Epoch 15/15\n",
      "323/323 [==============================] - 0s 230us/sample - loss: 47.9197\n",
      "81/81 [==============================] - 0s 596us/sample - loss: 118.9669\n"
     ]
    },
    {
     "data": {
      "text/plain": [
       "118.96689219533661"
      ]
     },
     "execution_count": 35,
     "metadata": {},
     "output_type": "execute_result"
    }
   ],
   "source": [
    "# play with batch size\n",
    "learning_rate = 0.01        \n",
    "epochs = 15         \n",
    "batch = 5      # Replace ? with an integer    \n",
    "optimizer = RMSprop(learning_rate)\n",
    "model.compile(loss='mean_squared_error',optimizer=optimizer)    # compile the model\n",
    "history = model.fit(X_train, y_train, epochs=epochs, batch_size=batch)     # fit the model\n",
    "model.evaluate(X_test, y_test)       # Evaluate the model"
   ]
  },
  {
   "cell_type": "code",
   "execution_count": 36,
   "metadata": {},
   "outputs": [
    {
     "data": {
      "image/png": "[encoded data removed]",
      "text/plain": [
       "<Figure size 432x288 with 1 Axes>"
      ]
     },
     "metadata": {
      "needs_background": "light"
     },
     "output_type": "display_data"
    }
   ],
   "source": [
    "plot_the_loss_curve(history.epoch, history.history['loss'])"
   ]
  },
  {
   "cell_type": "markdown",
   "metadata": {
    "colab_type": "text",
    "id": "wQV6zkKXrwR0"
   },
   "source": [
    "#### **Summary of hyperparameter tuning**\n",
    "Most machine learning problems require a lot of hyperparameter tuning. Unfortunately, we can't provide concrete tuning rules for every model. Lowering the learning rate can help one model converge efficiently but make another model converge much too slowly. You must experiment to find the best set of hyperparameters for your dataset. That said, here are a few rules of thumb:\n",
    "\n",
    "*  Training loss should steadily decrease, steeply at first, and then more slowly until the slope of the curve reaches or approaches zero.\n",
    "*  If the training loss does not converge, train for more epochs.\n",
    "*  If the training loss decreases too slowly, increase the learning rate. Note that setting the learning rate too high may also prevent training loss from converging.\n",
    "*  If the training loss varies wildly (that is, the training loss jumps around), decrease the learning rate.\n",
    "*  Lowering the learning rate while increasing the number of epochs or the batch size is often a good combination.\n",
    "*  Setting the batch size to a very small batch number can also cause instability. First, try large batch size values. Then, decrease the batch size until you see degradation.\n",
    "*  For real-world datasets consisting of a very large number of examples, the entire dataset might not fit into memory. In such cases, you'll need to reduce the batch size to enable a batch to fit into memory.\n",
    "\n",
    "Remember: the ideal combination of hyperparameters is data dependent, so you must always experiment and verify."
   ]
  },
  {
   "cell_type": "markdown",
   "metadata": {
    "colab_type": "text",
    "id": "3wYL0qp4fTv-"
   },
   "source": [
    "#### 5. Make a Prediction\n",
    "Making a prediction is the final step in the life-cycle. It is why we wanted the model in the first place.\n",
    "\n",
    "It requires you have new data for which a prediction is required, e.g. where you do not have the output values.\n",
    "\n",
    "From an API perspective, you simply call a function to make a prediction of a class label, probability, or numerical value: whatever you designed your model to predict.\n",
    "\n",
    "We have our new test data located at the given github location:\n",
    "\n",
    "https://raw.githubusercontent.com/dphi-official/Datasets/master/Boston_Housing/Testing_set_boston.csv\n",
    "\n"
   ]
  },
  {
   "cell_type": "code",
   "execution_count": 37,
   "metadata": {
    "colab": {},
    "colab_type": "code",
    "id": "s-fWHtrMe8U_"
   },
   "outputs": [],
   "source": [
    "# Load new test data\n",
    "new_test_data = pd.read_csv('https://raw.githubusercontent.com/dphi-official/Datasets/master/Boston_Housing/Testing_set_boston.csv')"
   ]
  },
  {
   "cell_type": "code",
   "execution_count": 38,
   "metadata": {
    "colab": {},
    "colab_type": "code",
    "collapsed": true,
    "id": "crRYu0YtiO5G",
    "jupyter": {
     "outputs_hidden": true
    }
   },
   "outputs": [
    {
     "data": {
      "text/plain": [
       "array([[39.66324 ],\n",
       "       [43.31839 ],\n",
       "       [29.805103],\n",
       "       [33.429066],\n",
       "       [29.351913],\n",
       "       [31.77466 ],\n",
       "       [27.770433],\n",
       "       [22.308249],\n",
       "       [34.840096],\n",
       "       [32.91533 ],\n",
       "       [31.574955],\n",
       "       [29.515196],\n",
       "       [ 5.115693],\n",
       "       [30.366613],\n",
       "       [33.39492 ],\n",
       "       [32.128086],\n",
       "       [28.585308],\n",
       "       [16.318932],\n",
       "       [46.921223],\n",
       "       [29.528286],\n",
       "       [35.769264],\n",
       "       [38.481598],\n",
       "       [20.160679],\n",
       "       [35.7884  ],\n",
       "       [25.344767],\n",
       "       [24.63024 ],\n",
       "       [33.256073],\n",
       "       [17.512663],\n",
       "       [30.827238],\n",
       "       [32.01975 ],\n",
       "       [33.973213],\n",
       "       [37.094193],\n",
       "       [33.19159 ],\n",
       "       [36.728428],\n",
       "       [22.18063 ],\n",
       "       [19.019093],\n",
       "       [41.219284],\n",
       "       [33.28828 ],\n",
       "       [29.050995],\n",
       "       [29.733736],\n",
       "       [24.730371],\n",
       "       [42.054348],\n",
       "       [52.406197],\n",
       "       [29.199072],\n",
       "       [37.230362],\n",
       "       [30.594894],\n",
       "       [24.732462],\n",
       "       [31.43057 ],\n",
       "       [30.73032 ],\n",
       "       [43.010677],\n",
       "       [34.514824],\n",
       "       [40.435   ],\n",
       "       [28.227936],\n",
       "       [38.73451 ],\n",
       "       [44.685932],\n",
       "       [32.565456],\n",
       "       [31.990492],\n",
       "       [45.578693],\n",
       "       [34.317436],\n",
       "       [26.043503],\n",
       "       [34.25898 ],\n",
       "       [45.767868],\n",
       "       [37.232857],\n",
       "       [18.633627],\n",
       "       [36.220154],\n",
       "       [25.56301 ],\n",
       "       [30.540886],\n",
       "       [37.112633],\n",
       "       [42.305576],\n",
       "       [17.573175],\n",
       "       [27.817085],\n",
       "       [38.25915 ],\n",
       "       [17.583002],\n",
       "       [35.442856],\n",
       "       [32.206924],\n",
       "       [13.453775],\n",
       "       [35.237286],\n",
       "       [51.817265],\n",
       "       [25.641064],\n",
       "       [23.654373],\n",
       "       [33.467278],\n",
       "       [18.00766 ],\n",
       "       [35.221016],\n",
       "       [20.974365],\n",
       "       [36.543056],\n",
       "       [35.558086],\n",
       "       [23.818836],\n",
       "       [36.955254],\n",
       "       [37.976223],\n",
       "       [33.435806],\n",
       "       [34.25633 ],\n",
       "       [10.545762],\n",
       "       [35.710716],\n",
       "       [26.300406],\n",
       "       [35.644325],\n",
       "       [35.838055],\n",
       "       [35.85991 ],\n",
       "       [ 6.538336],\n",
       "       [17.469563],\n",
       "       [16.151329],\n",
       "       [30.548754],\n",
       "       [33.002274]], dtype=float32)"
      ]
     },
     "execution_count": 38,
     "metadata": {},
     "output_type": "execute_result"
    }
   ],
   "source": [
    "# make a prediction\n",
    "model.predict(new_test_data)"
   ]
  },
  {
   "cell_type": "markdown",
   "metadata": {
    "colab_type": "text",
    "id": "UuoFhNRrn623"
   },
   "source": [
    "\n",
    "**Congratulations! You have successfully build your first deep learning model and predicted the output (i.e. MEDV) of new test data.**"
   ]
  },
  {
   "cell_type": "markdown",
   "metadata": {
    "colab_type": "text",
    "id": "c-SLnxZxp02g"
   },
   "source": [
    "#### Resources\n",
    "*  [https://machinelearningmastery.com/tensorflow-tutorial-deep-learning-with-tf-keras/](https://machinelearningmastery.com/tensorflow-tutorial-deep-learning-with-tf-keras/)\n",
    "*  [https://heartbeat.fritz.ai/linear-regression-using-keras-and-python-7cee2819a60c](https://heartbeat.fritz.ai/linear-regression-using-keras-and-python-7cee2819a60c)\n",
    "*  Google Machine Learning Crash Course"
   ]
  }
 ],
 "metadata": {
  "colab": {
   "collapsed_sections": [],
   "name": "DL_Day4: Linear_Regression with tf.keras - Beginners.ipynb",
   "provenance": []
  },
  "kernelspec": {
   "display_name": "Python 3",
   "language": "python",
   "name": "python3"
  },
  "language_info": {
   "codemirror_mode": {
    "name": "ipython",
    "version": 3
   },
   "file_extension": ".py",
   "mimetype": "text/x-python",
   "name": "python",
   "nbconvert_exporter": "python",
   "pygments_lexer": "ipython3",
   "version": "3.7.5"
  }
 },
 "nbformat": 4,
 "nbformat_minor": 4
}
